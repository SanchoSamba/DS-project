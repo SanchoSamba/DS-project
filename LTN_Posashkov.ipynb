{
 "cells": [
  {
   "cell_type": "code",
   "execution_count": 38,
   "metadata": {},
   "outputs": [],
   "source": [
    "import pandas as pd\n",
    "import torch\n",
    "import ltn\n",
    "import torch.nn as nn\n",
    "import torch.nn.functional as F\n",
    "from sklearn.model_selection import train_test_split\n",
    "from sklearn.preprocessing import MinMaxScaler\n",
    "import matplotlib.pyplot as plt\n",
    "import numpy as np\n",
    "plt.style.use('ggplot')"
   ]
  },
  {
   "cell_type": "markdown",
   "metadata": {},
   "source": [
    "### 1. Initial data analysis"
   ]
  },
  {
   "cell_type": "code",
   "execution_count": 25,
   "metadata": {},
   "outputs": [
    {
     "name": "stdout",
     "output_type": "stream",
     "text": [
      "<class 'pandas.core.frame.DataFrame'>\n",
      "RangeIndex: 59442 entries, 0 to 59441\n",
      "Data columns (total 26 columns):\n",
      " #   Column                      Non-Null Count  Dtype  \n",
      "---  ------                      --------------  -----  \n",
      " 0   _time                       59442 non-null  object \n",
      " 1   GARAGE_EXTERNAL_POWER       59442 non-null  float64\n",
      " 2   DEMAND_LIMIT                59442 non-null  float64\n",
      " 3   DEMAND_LIMIT_INDICATOR      59442 non-null  float64\n",
      " 4   BATTERY_SOC                 59442 non-null  float64\n",
      " 5   BATTERY_DISCHARGE_POWER     59442 non-null  float64\n",
      " 6   BATTERY_CHARGED_ENERGY      59442 non-null  float64\n",
      " 7   BATTERY_DISCHARGED_ENERGY   59442 non-null  float64\n",
      " 8   PV_POWER                    59442 non-null  float64\n",
      " 9   PV_ENERGY                   59442 non-null  float64\n",
      " 10  WALLBOX_ALPHA_ENERGY        59442 non-null  float64\n",
      " 11  WALLBOX_ALPHA_POWER         59442 non-null  float64\n",
      " 12  WALLBOX_1_ENERGY            59442 non-null  float64\n",
      " 13  WALLBOX_1_POWER             59442 non-null  float64\n",
      " 14  WALLBOX_2_ENERGY            59442 non-null  float64\n",
      " 15  WALLBOX_2_POWER             59442 non-null  float64\n",
      " 16  WALLBOX_3_ENERGY            59442 non-null  float64\n",
      " 17  WALLBOX_3_POWER             59442 non-null  float64\n",
      " 18  WALLBOX_A_ENERGY            59442 non-null  float64\n",
      " 19  WALLBOX_A_POWER             59442 non-null  float64\n",
      " 20  WALLBOX_B_ENERGY            59442 non-null  float64\n",
      " 21  WALLBOX_B_POWER             59442 non-null  float64\n",
      " 22  WALLBOX_C_ENERGY            59442 non-null  float64\n",
      " 23  WALLBOX_C_POWER             59442 non-null  float64\n",
      " 24  WALLBOX_FASTCHARGER_ENERGY  59442 non-null  float64\n",
      " 25  WALLBOX_FASTCHARGER_POWER   59442 non-null  float64\n",
      "dtypes: float64(25), object(1)\n",
      "memory usage: 11.8+ MB\n"
     ]
    },
    {
     "data": {
      "text/plain": [
       "(None,\n",
       "                        _time  GARAGE_EXTERNAL_POWER  DEMAND_LIMIT  \\\n",
       " 0  2023-10-05 00:01:00+00:00               1.244171          50.0   \n",
       " 1  2023-10-05 00:02:00+00:00               1.244171          50.0   \n",
       " 2  2023-10-05 00:03:00+00:00               1.244171          50.0   \n",
       " 3  2023-10-05 00:04:00+00:00               1.244171          50.0   \n",
       " 4  2023-10-05 00:05:00+00:00               1.244171          50.0   \n",
       " \n",
       "    DEMAND_LIMIT_INDICATOR  BATTERY_SOC  BATTERY_DISCHARGE_POWER  \\\n",
       " 0                     1.0         40.5                   -0.338   \n",
       " 1                     1.0         40.5                   -0.372   \n",
       " 2                     1.0         40.5                   -0.393   \n",
       " 3                     1.0         40.5                   -0.339   \n",
       " 4                     1.0         40.5                   -0.371   \n",
       " \n",
       "    BATTERY_CHARGED_ENERGY  BATTERY_DISCHARGED_ENERGY  PV_POWER  PV_ENERGY  \\\n",
       " 0                     0.0                        0.0  0.008693        0.0   \n",
       " 1                     0.0                        0.0  0.008693        0.0   \n",
       " 2                     0.0                        0.0  0.008693        0.0   \n",
       " 3                     0.0                        0.0  0.008693        0.0   \n",
       " 4                     0.0                        0.0  0.008693        0.0   \n",
       " \n",
       "    ...  WALLBOX_3_ENERGY  WALLBOX_3_POWER  WALLBOX_A_ENERGY  WALLBOX_A_POWER  \\\n",
       " 0  ...               0.0         0.006914          0.000000         0.010233   \n",
       " 1  ...               0.0         0.007550          0.000977         0.010233   \n",
       " 2  ...               0.0         0.006996          0.000000         0.010233   \n",
       " 3  ...               0.0         0.007392          0.000000         0.010233   \n",
       " 4  ...               0.0         0.007188          0.000000         0.010233   \n",
       " \n",
       "    WALLBOX_B_ENERGY  WALLBOX_B_POWER  WALLBOX_C_ENERGY  WALLBOX_C_POWER  \\\n",
       " 0          0.000000         0.010435               0.0         0.010112   \n",
       " 1          0.000000         0.010435               0.0         0.010112   \n",
       " 2          0.000000         0.010435               0.0         0.010112   \n",
       " 3          0.000977         0.010435               0.0         0.010112   \n",
       " 4          0.000000         0.010435               0.0         0.010112   \n",
       " \n",
       "    WALLBOX_FASTCHARGER_ENERGY  WALLBOX_FASTCHARGER_POWER  \n",
       " 0                    0.000000                   0.154965  \n",
       " 1                    0.007812                   0.155586  \n",
       " 2                    0.000000                   0.157340  \n",
       " 3                    0.000000                   0.158009  \n",
       " 4                    0.007812                   0.158804  \n",
       " \n",
       " [5 rows x 26 columns],\n",
       "        GARAGE_EXTERNAL_POWER  DEMAND_LIMIT  DEMAND_LIMIT_INDICATOR  \\\n",
       " count           59442.000000       59442.0                 59442.0   \n",
       " mean               16.289759          50.0                     1.0   \n",
       " std                19.406290           0.0                     0.0   \n",
       " min                -9.283169          50.0                     1.0   \n",
       " 25%                 1.244171          50.0                     1.0   \n",
       " 50%                 6.699247          50.0                     1.0   \n",
       " 75%                26.031271          50.0                     1.0   \n",
       " max               112.929680          50.0                     1.0   \n",
       " \n",
       "         BATTERY_SOC  BATTERY_DISCHARGE_POWER  BATTERY_CHARGED_ENERGY  \\\n",
       " count  59442.000000             59442.000000            59442.000000   \n",
       " mean      40.146942                -0.464677                0.058751   \n",
       " std        5.453018                14.480506                0.358806   \n",
       " min        7.500000               -53.692001                0.000000   \n",
       " 25%       40.500000                -0.482000                0.000000   \n",
       " 50%       40.500000                -0.351000                0.000000   \n",
       " 75%       41.000000                -0.225000                0.000000   \n",
       " max       54.500000                72.433006               65.699219   \n",
       " \n",
       "        BATTERY_DISCHARGED_ENERGY      PV_POWER     PV_ENERGY  \\\n",
       " count               59442.000000  59442.000000  59442.000000   \n",
       " mean                    0.050882      0.725957      0.012497   \n",
       " std                     0.339166      1.309800      0.067592   \n",
       " min                    -0.101562     -0.039667      0.000000   \n",
       " 25%                     0.000000      0.006161      0.000000   \n",
       " 50%                     0.000000      0.008210      0.000000   \n",
       " 75%                     0.000000      0.887282      0.015625   \n",
       " max                    55.500000      7.470151     14.628906   \n",
       " \n",
       "        WALLBOX_ALPHA_ENERGY  ...  WALLBOX_3_ENERGY  WALLBOX_3_POWER  \\\n",
       " count          59442.000000  ...      59442.000000     59442.000000   \n",
       " mean               0.013051  ...          0.024936         1.397854   \n",
       " std                0.324930  ...          0.223362         2.768573   \n",
       " min                0.000000  ...          0.000000        -0.007193   \n",
       " 25%                0.000000  ...          0.000000         0.005797   \n",
       " 50%                0.000000  ...          0.000000         0.007424   \n",
       " 75%                0.000000  ...          0.029297         1.606894   \n",
       " max               76.445312  ...         40.796875        11.713392   \n",
       " \n",
       "        WALLBOX_A_ENERGY  WALLBOX_A_POWER  WALLBOX_B_ENERGY  WALLBOX_B_POWER  \\\n",
       " count      59442.000000     59442.000000      59442.000000     59442.000000   \n",
       " mean           0.017482         1.015422          0.018566         1.051943   \n",
       " std            3.043279         2.521278          0.161284         2.722164   \n",
       " min         -524.167969         0.009783         -0.017578         0.009795   \n",
       " 25%            0.000000         0.010202          0.000000         0.010320   \n",
       " 50%            0.000000         0.010252          0.000000         0.010370   \n",
       " 75%            0.000977         0.010340          0.000977         0.010431   \n",
       " max          524.398438        11.637885         31.630859        11.531826   \n",
       " \n",
       "        WALLBOX_C_ENERGY  WALLBOX_C_POWER  WALLBOX_FASTCHARGER_ENERGY  \\\n",
       " count      59442.000000     59442.000000                59442.000000   \n",
       " mean           0.025252         1.435265                    0.169159   \n",
       " std            0.286048         3.194861                    1.120542   \n",
       " min            0.000000         0.009802                    0.000000   \n",
       " 25%            0.000000         0.010211                    0.000000   \n",
       " 50%            0.000000         0.010260                    0.000000   \n",
       " 75%            0.001953         0.010552                    0.007812   \n",
       " max           68.082031        11.560207                  190.648438   \n",
       " \n",
       "        WALLBOX_FASTCHARGER_POWER  \n",
       " count               59442.000000  \n",
       " mean                    9.665066  \n",
       " std                    22.522631  \n",
       " min                     0.009000  \n",
       " 25%                     0.150472  \n",
       " 50%                     0.159256  \n",
       " 75%                     0.169050  \n",
       " max                    80.319511  \n",
       " \n",
       " [8 rows x 25 columns])"
      ]
     },
     "execution_count": 25,
     "metadata": {},
     "output_type": "execute_result"
    }
   ],
   "source": [
    "file_path = 'Stud_E-mobility_data_staticLimit.csv'\n",
    "data = pd.read_csv(file_path)\n",
    "data_info = data.info()\n",
    "data_head = data.head()\n",
    "data_description = data.describe()\n",
    "(data_info, data_head, data_description)"
   ]
  },
  {
   "cell_type": "code",
   "execution_count": 26,
   "metadata": {},
   "outputs": [
    {
     "data": {
      "text/plain": [
       "{'SOC > 80%': 0,\n",
       " '40% < SOC < 80% and High Power': 579,\n",
       " 'SOC < 40% and High Power': 3524,\n",
       " 'SOC < 40% and Low Power': 6925,\n",
       " 'SOC < 15%': 202}"
      ]
     },
     "execution_count": 26,
     "metadata": {},
     "output_type": "execute_result"
    }
   ],
   "source": [
    "# Rule 1: SOC > 80%\n",
    "mask_soc_above_80 = data['BATTERY_SOC'] > 80\n",
    "\n",
    "# Rule 2: 40% < SOC < 80% and GARAGE_EXTERNAL_POWER > DEMAND_LIMIT\n",
    "mask_40_to_80_high_power = (data['BATTERY_SOC'] > 40) & (data['BATTERY_SOC'] < 80) & (data['GARAGE_EXTERNAL_POWER'] > data['DEMAND_LIMIT'])\n",
    "\n",
    "# Rule 3a: SOC < 40% and GARAGE_EXTERNAL_POWER > DEMAND_LIMIT\n",
    "mask_below_40_high_power = (data['BATTERY_SOC'] < 40) & (data['GARAGE_EXTERNAL_POWER'] > data['DEMAND_LIMIT'])\n",
    "\n",
    "# Rule 3b: SOC < 40% and GARAGE_EXTERNAL_POWER < DEMAND_LIMIT\n",
    "mask_below_40_low_power = (data['BATTERY_SOC'] < 40) & (data['GARAGE_EXTERNAL_POWER'] < data['DEMAND_LIMIT'])\n",
    "\n",
    "# Rule 4: SOC < 15%\n",
    "mask_below_15 = data['BATTERY_SOC'] < 15\n",
    "\n",
    "\n",
    "data_soc_above_80 = data[mask_soc_above_80]\n",
    "data_40_to_80_high_power = data[mask_40_to_80_high_power]\n",
    "data_below_40_high_power = data[mask_below_40_high_power]\n",
    "data_below_40_low_power = data[mask_below_40_low_power]\n",
    "data_below_15 = data[mask_below_15]e\n",
    "count_rules = {\n",
    "    \"SOC > 80%\": len(data_soc_above_80),\n",
    "    \"40% < SOC < 80% and High Power\": len(data_40_to_80_high_power),\n",
    "    \"SOC < 40% and High Power\": len(data_below_40_high_power),\n",
    "    \"SOC < 40% and Low Power\": len(data_below_40_low_power),\n",
    "    \"SOC < 15%\": len(data_below_15)\n",
    "}\n",
    "\n",
    "count_rules\n"
   ]
  },
  {
   "cell_type": "code",
   "execution_count": 29,
   "metadata": {},
   "outputs": [
    {
     "data": {
      "image/png": "[encoded data removed]",
      "text/plain": [
       "<Figure size 1000x600 with 1 Axes>"
      ]
     },
     "metadata": {},
     "output_type": "display_data"
    }
   ],
   "source": [
    "counts_df = pd.DataFrame(list(count_rules.items()), columns=['Rule', 'Count'])\n",
    "# Plotting\n",
    "plt.figure(figsize=(10, 6))\n",
    "plt.bar(counts_df['Rule'], counts_df['Count'], color='skyblue')\n",
    "plt.xlabel('SOC Rules')\n",
    "plt.ylabel('Number of Entries')\n",
    "plt.title('Distribution of Entries by SOC Rules')\n",
    "plt.xticks(rotation=45, ha='right')\n",
    "plt.tight_layout()  # Adjust layout to make room for the rotated x-axis labels\n",
    "\n",
    "plt.show()\n"
   ]
  },
  {
   "cell_type": "code",
   "execution_count": 30,
   "metadata": {},
   "outputs": [
    {
     "data": {
      "text/plain": [
       "11230"
      ]
     },
     "execution_count": 30,
     "metadata": {},
     "output_type": "execute_result"
    }
   ],
   "source": [
    "total_entries_covered = sum(count_rules.values())\n",
    "total_entries_covered"
   ]
  },
  {
   "cell_type": "code",
   "execution_count": 31,
   "metadata": {},
   "outputs": [
    {
     "data": {
      "text/plain": [
       "59442"
      ]
     },
     "execution_count": 31,
     "metadata": {},
     "output_type": "execute_result"
    }
   ],
   "source": [
    "len(data)"
   ]
  },
  {
   "cell_type": "code",
   "execution_count": 32,
   "metadata": {},
   "outputs": [
    {
     "name": "stdout",
     "output_type": "stream",
     "text": [
      "Total Entries Covered by Rules:  18.892365667373237\n"
     ]
    }
   ],
   "source": [
    "print(\"Total Entries Covered by Rules: \", total_entries_covered *100/(len(data)) )"
   ]
  },
  {
   "cell_type": "markdown",
   "metadata": {},
   "source": [
    "### 2. Create new datset  which corresponds to the following ground rules "
   ]
  },
  {
   "cell_type": "code",
   "execution_count": 33,
   "metadata": {},
   "outputs": [],
   "source": [
    "# Combine all the filtered datasets into one that satisfies any of the rules\n",
    "combined_data = pd.concat([\n",
    "    data_soc_above_80,\n",
    "    data_40_to_80_high_power,\n",
    "    data_below_40_high_power,\n",
    "    data_below_40_low_power,\n",
    "    data_below_15\n",
    "])\n",
    "# Drop duplicate entries if any entry matches multiple rules\n",
    "combined_data = combined_data.drop_duplicates()\n",
    "# Save the combined dataset to a new CSV file\n",
    "output_file_path = 'Filtered_Emobility_Data.csv'\n",
    "combined_data.to_csv(output_file_path, index=False)\n",
    "\n",
    "\n"
   ]
  },
  {
   "cell_type": "code",
   "execution_count": 34,
   "metadata": {},
   "outputs": [],
   "source": [
    "data_modified = pd.read_csv(output_file_path)"
   ]
  },
  {
   "cell_type": "code",
   "execution_count": 48,
   "metadata": {},
   "outputs": [
    {
     "data": {
      "text/plain": [
       "{'Rule 1 (SOC > 80%)': 0.0,\n",
       " 'Rule 2 (40% < SOC < 80%)': 0.05250272034820457,\n",
       " 'Rule 3 (SOC < 40% and POWER > LIMIT)': 0.31955023576351105,\n",
       " 'Rule 4 (SOC < 40% and POWER < LIMIT)': 0.6279470438882844,\n",
       " 'Rule 5 (SOC < 15%)': 0.018317011244105914}"
      ]
     },
     "execution_count": 48,
     "metadata": {},
     "output_type": "execute_result"
    }
   ],
   "source": [
    "# Define the rules based on SOC\n",
    "def evaluate_rules(df):\n",
    "    # Rule 1: SOC > 80%\n",
    "    rule1 = (df['BATTERY_SOC'] > 80)\n",
    "\n",
    "    # Rule 2: 40% < SOC < 80% and GARAGE_EXTERNAL_POWER > DEMAND_LIMIT\n",
    "    rule2 = (df['BATTERY_SOC'] > 40) & (df['BATTERY_SOC'] < 80) & (df['GARAGE_EXTERNAL_POWER'] > df['DEMAND_LIMIT'])\n",
    "\n",
    "    # Rule 3: SOC < 40% and GARAGE_EXTERNAL_POWER > DEMAND_LIMIT\n",
    "    rule3 = (df['BATTERY_SOC'] < 40) & (df['GARAGE_EXTERNAL_POWER'] > df['DEMAND_LIMIT'])\n",
    "\n",
    "    # Rule 4: SOC < 40% and GARAGE_EXTERNAL_POWER < DEMAND_LIMIT\n",
    "    rule4 = (df['BATTERY_SOC'] < 40) & (df['GARAGE_EXTERNAL_POWER'] < df['DEMAND_LIMIT'])\n",
    "\n",
    "    # Rule 5: SOC < 15% (Battery discharging stopped)\n",
    "    rule5 = (df['BATTERY_SOC'] < 15)\n",
    "\n",
    "    # Calculate the number of times each rule is satisfied\n",
    "    rule1_sat = rule1.mean()\n",
    "    rule2_sat = rule2.mean()\n",
    "    rule3_sat = rule3.mean()\n",
    "    rule4_sat = rule4.mean()\n",
    "    rule5_sat = rule5.mean()\n",
    "\n",
    "    return {\n",
    "        \"Rule 1 (SOC > 80%)\": rule1_sat,\n",
    "        \"Rule 2 (40% < SOC < 80%)\": rule2_sat,\n",
    "        \"Rule 3 (SOC < 40% and POWER > LIMIT)\": rule3_sat,\n",
    "        \"Rule 4 (SOC < 40% and POWER < LIMIT)\": rule4_sat,\n",
    "        \"Rule 5 (SOC < 15%)\": rule5_sat\n",
    "    }\n",
    "\n",
    "# Evaluate rules\n",
    "rule_satisfaction = evaluate_rules(data_modified)\n",
    "rule_satisfaction\n"
   ]
  },
  {
   "cell_type": "code",
   "execution_count": 51,
   "metadata": {},
   "outputs": [
    {
     "data": {
      "text/plain": [
       "(tensor([40.5000, 40.5000, 40.5000, 40.5000, 40.5000, 40.5000, 40.5000, 40.5000,\n",
       "         40.5000, 40.5000]),\n",
       " tensor([50.2441, 50.2441, 50.3399, 54.8379, 51.9668, 50.2441, 53.6895, 50.4356,\n",
       "         50.2441, 57.9004]),\n",
       " tensor([50., 50., 50., 50., 50., 50., 50., 50., 50., 50.]))"
      ]
     },
     "execution_count": 51,
     "metadata": {},
     "output_type": "execute_result"
    }
   ],
   "source": [
    "# Convert necessary columns to tensors\n",
    "soc_tensor = torch.tensor(data_modified['BATTERY_SOC'].values, dtype=torch.float32)\n",
    "external_power_tensor = torch.tensor(data_modified['GARAGE_EXTERNAL_POWER'].values, dtype=torch.float32)\n",
    "demand_limit_tensor = torch.tensor(data_modified['DEMAND_LIMIT'].values, dtype=torch.float32)\n",
    "\n",
    "# Display the tensors (showing the first few elements for brevity)\n",
    "soc_tensor[:10], external_power_tensor[:10], demand_limit_tensor[:10]"
   ]
  },
  {
   "cell_type": "code",
   "execution_count": 53,
   "metadata": {},
   "outputs": [
    {
     "data": {
      "text/plain": [
       "tensor([[0.9889, 0.0111],\n",
       "        [0.9889, 0.0111],\n",
       "        [0.9890, 0.0110],\n",
       "        [0.9925, 0.0075],\n",
       "        [0.9904, 0.0096]], grad_fn=<SoftmaxBackward0>)"
      ]
     },
     "execution_count": 53,
     "metadata": {},
     "output_type": "execute_result"
    }
   ],
   "source": [
    "# Define the model for SOC-Based Actions\n",
    "class SOCModel(torch.nn.Module):\n",
    "    def __init__(self):\n",
    "        super(SOCModel, self).__init__()\n",
    "        self.elu = torch.nn.ELU()\n",
    "        self.softmax = torch.nn.Softmax(dim=1)\n",
    "        self.dense1 = torch.nn.Linear(3, 10)  # Input is SOC, external power, demand limit\n",
    "        self.dense2 = torch.nn.Linear(10, 5)\n",
    "        self.dense3 = torch.nn.Linear(5, 2)   # Output two probabilities: 0 for no action, 1 for action taken\n",
    "\n",
    "    def forward(self, x):\n",
    "        \"\"\"x: tensor of [soc, external_power, demand_limit]\"\"\"\n",
    "        x = self.elu(self.dense1(x))\n",
    "        x = self.elu(self.dense2(x))\n",
    "        return self.softmax(self.dense3(x))\n",
    "\n",
    "# Create the predicate based on the model\n",
    "class ChargingPredicate(torch.nn.Module):\n",
    "    def __init__(self, model):\n",
    "        super(ChargingPredicate, self).__init__()\n",
    "        self.model = model\n",
    "    \n",
    "    def forward(self, soc, external_power, demand_limit):\n",
    "        inputs = torch.stack([soc, external_power, demand_limit], dim=1)\n",
    "        return self.model(inputs)\n",
    "\n",
    "# Instantiate model and predicate\n",
    "soc_model = SOCModel()\n",
    "charging_predicate = ChargingPredicate(soc_model)\n",
    "\n",
    "# Checking the model by passing the first few elements\n",
    "charging_output = charging_predicate(soc_tensor[:5], external_power_tensor[:5], demand_limit_tensor[:5])\n",
    "charging_output\n"
   ]
  },
  {
   "cell_type": "code",
   "execution_count": 54,
   "metadata": {},
   "outputs": [
    {
     "name": "stdout",
     "output_type": "stream",
     "text": [
      "Satisfaction Level: 0.005361109506338835\n"
     ]
    }
   ],
   "source": [
    "\n",
    "\n",
    "class BatteryManagementLTN(torch.nn.Module):\n",
    "    def __init__(self, charging_predicate):\n",
    "        super().__init__()\n",
    "        self.charging_predicate = charging_predicate\n",
    "    def forward(self, soc, external_power, demand_limit):\n",
    "        # Getting predictions from the predicate model\n",
    "        actions = self.charging_predicate(soc, external_power, demand_limit)\n",
    "        # Logical Rules\n",
    "        # Extracting action probability assuming index 1 corresponds to action taken\n",
    "        action_taken = actions[:, 1]\n",
    "        # Rule 1: SOC > 80%\n",
    "        rule1 = (soc > 80) * action_taken\n",
    "        # Rule 2: 40% < SOC < 80% and GARAGE_EXTERNAL_POWER > DEMAND_LIMIT\n",
    "        rule2 = ((soc > 40) & (soc < 80) & (external_power > demand_limit)) * action_taken\n",
    "        # Rule 3: SOC < 40% and GARAGE_EXTERNAL_POWER > DEMAND_LIMIT\n",
    "        rule3 = ((soc < 40) & (external_power > demand_limit)) * action_taken\n",
    "        # Rule 4: SOC < 40% and GARAGE_EXTERNAL_POWER < DEMAND_LIMIT\n",
    "        rule4 = ((soc < 40) & (external_power < demand_limit)) * action_taken\n",
    "        # Rule 5: SOC < 15%\n",
    "        rule5 = (soc < 15) * (1 - action_taken) \n",
    "        sat_agg = torch.mean(torch.stack([rule1, rule2, rule3, rule4, rule5], dim=0))\n",
    "        return sat_agg\n",
    "# Instantiate and apply the model\n",
    "battery_management_ltn = BatteryManagementLTN(charging_predicate)\n",
    "satisfaction_level = battery_management_ltn(soc_tensor, external_power_tensor, demand_limit_tensor)\n",
    "print(f\"Satisfaction Level: {satisfaction_level.item()}\")\n"
   ]
  },
  {
   "cell_type": "code",
   "execution_count": 56,
   "metadata": {},
   "outputs": [],
   "source": [
    "import ltn.fuzzy_ops as fuzzy_ops"
   ]
  },
  {
   "cell_type": "code",
   "execution_count": 59,
   "metadata": {},
   "outputs": [],
   "source": [
    "soc_values = data_modified['BATTERY_SOC'].values.astype(np.float32)\n",
    "external_power_values = data_modified['GARAGE_EXTERNAL_POWER'].values.astype(np.float32)\n",
    "demand_limit_values = data_modified['DEMAND_LIMIT'].values.astype(np.float32)\n",
    "# Convert to PyTorch tensors\n",
    "soc_tensor = torch.tensor(soc_values)\n",
    "external_power_tensor = torch.tensor(external_power_values)\n",
    "demand_limit_tensor = torch.tensor(demand_limit_values)"
   ]
  },
  {
   "cell_type": "code",
   "execution_count": 60,
   "metadata": {},
   "outputs": [],
   "source": [
    "# Redefine the LTN variables with the new tensors\n",
    "soc = ltn.Variable(\"soc\", soc_tensor)\n",
    "external_power = ltn.Variable(\"external_power\", external_power_tensor)\n",
    "demand_limit = ltn.Variable(\"demand_limit\", demand_limit_tensor)\n"
   ]
  },
  {
   "cell_type": "code",
   "execution_count": 67,
   "metadata": {},
   "outputs": [
    {
     "ename": "KeyError",
     "evalue": "'SOC'",
     "output_type": "error",
     "traceback": [
      "\u001b[0;31m---------------------------------------------------------------------------\u001b[0m",
      "\u001b[0;31mKeyError\u001b[0m                                  Traceback (most recent call last)",
      "File \u001b[0;32m~/anaconda3/envs/ds_env/lib/python3.10/site-packages/pandas/core/indexes/base.py:3805\u001b[0m, in \u001b[0;36mIndex.get_loc\u001b[0;34m(self, key)\u001b[0m\n\u001b[1;32m   3804\u001b[0m \u001b[38;5;28;01mtry\u001b[39;00m:\n\u001b[0;32m-> 3805\u001b[0m     \u001b[38;5;28;01mreturn\u001b[39;00m \u001b[38;5;28;43mself\u001b[39;49m\u001b[38;5;241;43m.\u001b[39;49m\u001b[43m_engine\u001b[49m\u001b[38;5;241;43m.\u001b[39;49m\u001b[43mget_loc\u001b[49m\u001b[43m(\u001b[49m\u001b[43mcasted_key\u001b[49m\u001b[43m)\u001b[49m\n\u001b[1;32m   3806\u001b[0m \u001b[38;5;28;01mexcept\u001b[39;00m \u001b[38;5;167;01mKeyError\u001b[39;00m \u001b[38;5;28;01mas\u001b[39;00m err:\n",
      "File \u001b[0;32mindex.pyx:167\u001b[0m, in \u001b[0;36mpandas._libs.index.IndexEngine.get_loc\u001b[0;34m()\u001b[0m\n",
      "File \u001b[0;32mindex.pyx:196\u001b[0m, in \u001b[0;36mpandas._libs.index.IndexEngine.get_loc\u001b[0;34m()\u001b[0m\n",
      "File \u001b[0;32mpandas/_libs/hashtable_class_helper.pxi:7081\u001b[0m, in \u001b[0;36mpandas._libs.hashtable.PyObjectHashTable.get_item\u001b[0;34m()\u001b[0m\n",
      "File \u001b[0;32mpandas/_libs/hashtable_class_helper.pxi:7089\u001b[0m, in \u001b[0;36mpandas._libs.hashtable.PyObjectHashTable.get_item\u001b[0;34m()\u001b[0m\n",
      "\u001b[0;31mKeyError\u001b[0m: 'SOC'",
      "\nThe above exception was the direct cause of the following exception:\n",
      "\u001b[0;31mKeyError\u001b[0m                                  Traceback (most recent call last)",
      "Cell \u001b[0;32mIn[67], line 23\u001b[0m\n\u001b[1;32m     21\u001b[0m forall \u001b[38;5;241m=\u001b[39m ltn\u001b[38;5;241m.\u001b[39mQuantifier(ltn\u001b[38;5;241m.\u001b[39mfuzzy_ops\u001b[38;5;241m.\u001b[39mAggregPMeanError(p\u001b[38;5;241m=\u001b[39m\u001b[38;5;241m2\u001b[39m), quantifier\u001b[38;5;241m=\u001b[39m\u001b[38;5;124m\"\u001b[39m\u001b[38;5;124mf\u001b[39m\u001b[38;5;124m\"\u001b[39m)\n\u001b[1;32m     22\u001b[0m sat_agg \u001b[38;5;241m=\u001b[39m ltn\u001b[38;5;241m.\u001b[39mfuzzy_ops\u001b[38;5;241m.\u001b[39mSatAgg()\n\u001b[0;32m---> 23\u001b[0m soc_tensor \u001b[38;5;241m=\u001b[39m torch\u001b[38;5;241m.\u001b[39mtensor(\u001b[43mdata_modified\u001b[49m\u001b[43m[\u001b[49m\u001b[38;5;124;43m'\u001b[39;49m\u001b[38;5;124;43mSOC\u001b[39;49m\u001b[38;5;124;43m'\u001b[39;49m\u001b[43m]\u001b[49m\u001b[38;5;241m.\u001b[39mvalues, dtype\u001b[38;5;241m=\u001b[39mtorch\u001b[38;5;241m.\u001b[39mfloat32)\n\u001b[1;32m     24\u001b[0m external_power_tensor \u001b[38;5;241m=\u001b[39m torch\u001b[38;5;241m.\u001b[39mtensor(data_modified[\u001b[38;5;124m'\u001b[39m\u001b[38;5;124mEXTERNAL_POWER\u001b[39m\u001b[38;5;124m'\u001b[39m]\u001b[38;5;241m.\u001b[39mvalues, dtype\u001b[38;5;241m=\u001b[39mtorch\u001b[38;5;241m.\u001b[39mfloat32)\n\u001b[1;32m     25\u001b[0m demand_limit_tensor \u001b[38;5;241m=\u001b[39m torch\u001b[38;5;241m.\u001b[39mtensor(data_modified[\u001b[38;5;124m'\u001b[39m\u001b[38;5;124mDEMAND_LIMIT\u001b[39m\u001b[38;5;124m'\u001b[39m]\u001b[38;5;241m.\u001b[39mvalues, dtype\u001b[38;5;241m=\u001b[39mtorch\u001b[38;5;241m.\u001b[39mfloat32)\n",
      "File \u001b[0;32m~/anaconda3/envs/ds_env/lib/python3.10/site-packages/pandas/core/frame.py:4102\u001b[0m, in \u001b[0;36mDataFrame.__getitem__\u001b[0;34m(self, key)\u001b[0m\n\u001b[1;32m   4100\u001b[0m \u001b[38;5;28;01mif\u001b[39;00m \u001b[38;5;28mself\u001b[39m\u001b[38;5;241m.\u001b[39mcolumns\u001b[38;5;241m.\u001b[39mnlevels \u001b[38;5;241m>\u001b[39m \u001b[38;5;241m1\u001b[39m:\n\u001b[1;32m   4101\u001b[0m     \u001b[38;5;28;01mreturn\u001b[39;00m \u001b[38;5;28mself\u001b[39m\u001b[38;5;241m.\u001b[39m_getitem_multilevel(key)\n\u001b[0;32m-> 4102\u001b[0m indexer \u001b[38;5;241m=\u001b[39m \u001b[38;5;28;43mself\u001b[39;49m\u001b[38;5;241;43m.\u001b[39;49m\u001b[43mcolumns\u001b[49m\u001b[38;5;241;43m.\u001b[39;49m\u001b[43mget_loc\u001b[49m\u001b[43m(\u001b[49m\u001b[43mkey\u001b[49m\u001b[43m)\u001b[49m\n\u001b[1;32m   4103\u001b[0m \u001b[38;5;28;01mif\u001b[39;00m is_integer(indexer):\n\u001b[1;32m   4104\u001b[0m     indexer \u001b[38;5;241m=\u001b[39m [indexer]\n",
      "File \u001b[0;32m~/anaconda3/envs/ds_env/lib/python3.10/site-packages/pandas/core/indexes/base.py:3812\u001b[0m, in \u001b[0;36mIndex.get_loc\u001b[0;34m(self, key)\u001b[0m\n\u001b[1;32m   3807\u001b[0m     \u001b[38;5;28;01mif\u001b[39;00m \u001b[38;5;28misinstance\u001b[39m(casted_key, \u001b[38;5;28mslice\u001b[39m) \u001b[38;5;129;01mor\u001b[39;00m (\n\u001b[1;32m   3808\u001b[0m         \u001b[38;5;28misinstance\u001b[39m(casted_key, abc\u001b[38;5;241m.\u001b[39mIterable)\n\u001b[1;32m   3809\u001b[0m         \u001b[38;5;129;01mand\u001b[39;00m \u001b[38;5;28many\u001b[39m(\u001b[38;5;28misinstance\u001b[39m(x, \u001b[38;5;28mslice\u001b[39m) \u001b[38;5;28;01mfor\u001b[39;00m x \u001b[38;5;129;01min\u001b[39;00m casted_key)\n\u001b[1;32m   3810\u001b[0m     ):\n\u001b[1;32m   3811\u001b[0m         \u001b[38;5;28;01mraise\u001b[39;00m InvalidIndexError(key)\n\u001b[0;32m-> 3812\u001b[0m     \u001b[38;5;28;01mraise\u001b[39;00m \u001b[38;5;167;01mKeyError\u001b[39;00m(key) \u001b[38;5;28;01mfrom\u001b[39;00m \u001b[38;5;21;01merr\u001b[39;00m\n\u001b[1;32m   3813\u001b[0m \u001b[38;5;28;01mexcept\u001b[39;00m \u001b[38;5;167;01mTypeError\u001b[39;00m:\n\u001b[1;32m   3814\u001b[0m     \u001b[38;5;66;03m# If we have a listlike key, _check_indexing_error will raise\u001b[39;00m\n\u001b[1;32m   3815\u001b[0m     \u001b[38;5;66;03m#  InvalidIndexError. Otherwise we fall through and re-raise\u001b[39;00m\n\u001b[1;32m   3816\u001b[0m     \u001b[38;5;66;03m#  the TypeError.\u001b[39;00m\n\u001b[1;32m   3817\u001b[0m     \u001b[38;5;28mself\u001b[39m\u001b[38;5;241m.\u001b[39m_check_indexing_error(key)\n",
      "\u001b[0;31mKeyError\u001b[0m: 'SOC'"
     ]
    }
   ],
   "source": [
    "# Redefining the model and predicate\n",
    "class BatteryManagementModel(torch.nn.Module):\n",
    "    def __init__(self):\n",
    "        super().__init__()\n",
    "        self.layers = torch.nn.Sequential(\n",
    "            torch.nn.Linear(3, 10),\n",
    "            torch.nn.ReLU(),\n",
    "            torch.nn.Linear(10, 20),\n",
    "            torch.nn.ReLU(),\n",
    "            torch.nn.Linear(20, 4),  \n",
    "            torch.nn.Sigmoid()\n",
    "        )\n",
    "    \n",
    "    def forward(self, x):\n",
    "        return self.layers(x)\n",
    "model = BatteryManagementModel()\n",
    "predicate = ltn.Predicate(model)\n",
    "def conditions(soc, external_power, demand_limit):\n",
    "    inputs = torch.stack([soc, external_power, demand_limit], dim=1)\n",
    "    return predicate(inputs)\n",
    "forall = ltn.Quantifier(ltn.fuzzy_ops.AggregPMeanError(p=2), quantifier=\"f\")\n",
    "sat_agg = ltn.fuzzy_ops.SatAgg()\n",
    "soc_tensor = torch.tensor(data_modified['SOC'].values, dtype=torch.float32)\n",
    "external_power_tensor = torch.tensor(data_modified['EXTERNAL_POWER'].values, dtype=torch.float32)\n",
    "demand_limit_tensor = torch.tensor(data_modified['DEMAND_LIMIT'].values, dtype=torch.float32)\n",
    "# Define conditions function to apply model directly on tensor inputs\n",
    "def conditions(soc, external_power, demand_limit):\n",
    "    inputs = torch.stack([soc, external_power, demand_limit], dim=1)\n",
    "    return model(inputs)  # Directly using the model here\n",
    "\n",
    "# Define Logical Rules using tensor operations\n",
    "def rule1():\n",
    "    # SOC > 80%: Complete charging coverage by the battery\n",
    "    condition = soc_tensor > 80\n",
    "    return forall(condition.float() * conditions(soc_tensor, external_power_tensor, demand_limit_tensor)[:, 0])\n",
    "\n",
    "def rule2():\n",
    "    # 40% < SOC < 80% and external power > demand limit\n",
    "    condition = (soc_tensor > 40) & (soc_tensor < 80) & (external_power_tensor > demand_limit_tensor)\n",
    "    return forall(condition.float() * conditions(soc_tensor, external_power_tensor, demand_limit_tensor)[:, 1])\n",
    "\n",
    "def rule3a():\n",
    "    # SOC < 40% and external power > demand limit\n",
    "    condition = (soc_tensor < 40) & (external_power_tensor > demand_limit_tensor)\n",
    "    return forall(condition.float() * conditions(soc_tensor, external_power_tensor, demand_limit_tensor)[:, 2])\n",
    "\n",
    "def rule3b():\n",
    "    # SOC < 40% and external power < demand limit: Battery charged from the grid\n",
    "    condition = (soc_tensor < 40) & (external_power_tensor < demand_limit_tensor)\n",
    "    return forall(condition.float() * conditions(soc_tensor, external_power_tensor, demand_limit_tensor)[:, 3])\n",
    "\n",
    "def rule4():\n",
    "    # SOC < 15%: Discharging stopped due to battery health\n",
    "    condition = soc_tensor < 15\n",
    "    return forall(condition.float() * (1 - conditions(soc_tensor, external_power_tensor, demand_limit_tensor).sum(dim=1)))\n",
    "optimizer = torch.optim.Adam(model.parameters(), lr=0.001)\n",
    "satisfaction_levels = []\n",
    "for epoch in range(2000):\n",
    "    optimizer.zero_grad()\n",
    "    loss = 1 - sat_agg([rule1(), rule2(), rule3a(), rule3b(), rule4()])\n",
    "    loss.backward()\n",
    "    optimizer.step()\n",
    "    if epoch % 200 == 0:\n",
    "        satisfaction_level = 1 - loss.item()\n",
    "        satisfaction_levels.append(satisfaction_level)\n",
    "        print(f\"Epoch {epoch}: Satisfaction Level {satisfaction_level}\")\n",
    "\n",
    "# Report the last recorded satisfaction level\n",
    "print(f\"Final Satisfaction Level: {satisfaction_levels[-1]}\")\n"
   ]
  }
 ],
 "metadata": {
  "kernelspec": {
   "display_name": "ds_env",
   "language": "python",
   "name": "python3"
  },
  "language_info": {
   "codemirror_mode": {
    "name": "ipython",
    "version": 3
   },
   "file_extension": ".py",
   "mimetype": "text/x-python",
   "name": "python",
   "nbconvert_exporter": "python",
   "pygments_lexer": "ipython3",
   "version": "3.10.14"
  }
 },
 "nbformat": 4,
 "nbformat_minor": 2
}
