{
  "cells": [
    {
      "cell_type": "code",
      "execution_count": null,
      "metadata": {},
      "outputs": [],
      "source": [
        "import pandas as pd\n",
        "import torch\n",
        "import LTNtorch as ltn"
      ]
    },
    {
      "cell_type": "markdown",
      "metadata": {},
      "source": [
        "### USE LTNorch for static dataset\n"
      ]
    },
    {
      "cell_type": "markdown",
      "metadata": {},
      "source": [
        "pip install git+https://github.com/tommasocarraro/LTNtorch.git\n"
      ]
    },
    {
      "cell_type": "code",
      "execution_count": 3,
      "metadata": {},
      "outputs": [],
      "source": [
        "file_path = 'Stud_E-mobility_data_staticLimit.csv'\n",
        "data = pd.read_csv(file_path)"
      ]
    },
    {
      "cell_type": "code",
      "execution_count": 4,
      "metadata": {},
      "outputs": [
        {
          "data": {
            "text/html": [
              "<div>\n",
              "<style scoped>\n",
              "    .dataframe tbody tr th:only-of-type {\n",
              "        vertical-align: middle;\n",
              "    }\n",
              "\n",
              "    .dataframe tbody tr th {\n",
              "        vertical-align: top;\n",
              "    }\n",
              "\n",
              "    .dataframe thead th {\n",
              "        text-align: right;\n",
              "    }\n",
              "</style>\n",
              "<table border=\"1\" class=\"dataframe\">\n",
              "  <thead>\n",
              "    <tr style=\"text-align: right;\">\n",
              "      <th></th>\n",
              "      <th>BATTERY_SOC</th>\n",
              "      <th>GARAGE_EXTERNAL_POWER</th>\n",
              "      <th>DEMAND_LIMIT</th>\n",
              "      <th>ACTION</th>\n",
              "    </tr>\n",
              "  </thead>\n",
              "  <tbody>\n",
              "    <tr>\n",
              "      <th>0</th>\n",
              "      <td>40.5</td>\n",
              "      <td>1.244171</td>\n",
              "      <td>50.0</td>\n",
              "      <td>No Action</td>\n",
              "    </tr>\n",
              "    <tr>\n",
              "      <th>1</th>\n",
              "      <td>40.5</td>\n",
              "      <td>1.244171</td>\n",
              "      <td>50.0</td>\n",
              "      <td>No Action</td>\n",
              "    </tr>\n",
              "    <tr>\n",
              "      <th>2</th>\n",
              "      <td>40.5</td>\n",
              "      <td>1.244171</td>\n",
              "      <td>50.0</td>\n",
              "      <td>No Action</td>\n",
              "    </tr>\n",
              "    <tr>\n",
              "      <th>3</th>\n",
              "      <td>40.5</td>\n",
              "      <td>1.244171</td>\n",
              "      <td>50.0</td>\n",
              "      <td>No Action</td>\n",
              "    </tr>\n",
              "    <tr>\n",
              "      <th>4</th>\n",
              "      <td>40.5</td>\n",
              "      <td>1.244171</td>\n",
              "      <td>50.0</td>\n",
              "      <td>No Action</td>\n",
              "    </tr>\n",
              "  </tbody>\n",
              "</table>\n",
              "</div>"
            ],
            "text/plain": [
              "   BATTERY_SOC  GARAGE_EXTERNAL_POWER  DEMAND_LIMIT     ACTION\n",
              "0         40.5               1.244171          50.0  No Action\n",
              "1         40.5               1.244171          50.0  No Action\n",
              "2         40.5               1.244171          50.0  No Action\n",
              "3         40.5               1.244171          50.0  No Action\n",
              "4         40.5               1.244171          50.0  No Action"
            ]
          },
          "execution_count": 4,
          "metadata": {},
          "output_type": "execute_result"
        }
      ],
      "source": [
        "# Define a function to apply the given rules to the dataset\n",
        "def apply_battery_rules(row):\n",
        "    if row['BATTERY_SOC'] > 80:\n",
        "        row['ACTION'] = 'Discharge Battery for E-Car Charging'\n",
        "    elif row['BATTERY_SOC'] > 40:\n",
        "        if row['GARAGE_EXTERNAL_POWER'] > row['DEMAND_LIMIT']:\n",
        "            row['ACTION'] = 'Discharge Battery for E-Car Charging'\n",
        "        else:\n",
        "            row['ACTION'] = 'No Action'\n",
        "    elif row['BATTERY_SOC'] >= 15:\n",
        "        if row['GARAGE_EXTERNAL_POWER'] > row['DEMAND_LIMIT']:\n",
        "            row['ACTION'] = 'Discharge Battery for E-Car Charging'\n",
        "        else:\n",
        "            row['ACTION'] = 'Charge Battery from Grid'\n",
        "    else:\n",
        "        row['ACTION'] = 'Stop Discharge - Battery Health'\n",
        "    return row\n",
        "new_data = data.apply(apply_battery_rules, axis=1)\n",
        "new_data[['BATTERY_SOC', 'GARAGE_EXTERNAL_POWER', 'DEMAND_LIMIT', 'ACTION']].head()\n"
      ]
    },
    {
      "cell_type": "code",
      "execution_count": 5,
      "metadata": {},
      "outputs": [],
      "source": [
        "new_file_path = 'Modified_E-mobility_data.csv'\n"
      ]
    },
    {
      "cell_type": "code",
      "execution_count": 6,
      "metadata": {},
      "outputs": [],
      "source": [
        "new_data.to_csv(new_file_path, index=False)"
      ]
    },
    {
      "cell_type": "markdown",
      "metadata": {},
      "source": [
        "## Predicates:\n",
        "- `P_charge(soc, power, limit)`: True if the battery should charge based on SOC, external power, and demand limit.\n",
        "- `P_discharge(soc, power, limit)`: True if the battery should discharge.\n",
        "- `P_stop(soc)`: True if the battery discharging should stop.\n",
        "\n",
        "## Formulas:\n",
        "- For SOC > 80%, `P_discharge(soc, power, limit)` should always be true.\n",
        "- For 40% < SOC < 80%, `P_discharge(soc, power, limit)` should be true if `power > limit`.\n",
        "- For SOC < 40%, different behaviors based on power and limit.\n",
        "- For SOC < 15%, `P_stop(soc)` should be true.\n"
      ]
    },
    {
      "cell_type": "code",
      "execution_count": null,
      "metadata": {},
      "outputs": [],
      "source": [
        "data = pd.read_csv('Modified_E-mobility_data.csv')\n",
        "# Normalize data and convert to tensors\n",
        "soc = torch.tensor(data['BATTERY_SOC'].values, dtype=torch.float32)\n",
        "power = torch.tensor(data['GARAGE_EXTERNAL_POWER'].values, dtype=torch.float32)\n",
        "limit = torch.tensor(data['DEMAND_LIMIT'].values, dtype=torch.float32)\n",
        "# Define the predicates\n",
        "P_charge = ltn.Predicate(\"Charge\")\n",
        "P_discharge = ltn.Predicate(\"Discharge\")\n",
        "P_stop = ltn.Predicate(\"Stop\")\n",
        "# LTN Variables\n",
        "soc_var = ltn.Variable(\"soc\", soc)\n",
        "power_var = ltn.Variable(\"power\", power)\n",
        "limit_var = ltn.Variable(\"limit\", limit)\n",
        "# Define rules using LTN\n",
        "rule1 = ltn.Forall(soc_var, ltn.Implies(soc_var > 80, P_discharge(soc_var, power_var, limit_var)))\n",
        "rule2 = ltn.Forall(soc_var, ltn.And(ltn.And(soc_var > 40, soc_var <= 80), ltn.Implies(power_var > limit_var, P_discharge(soc_var, power_var, limit_var))))\n",
        "rule3 = ltn.Forall(soc_var, ltn.And(soc_var < 40, ltn.And(soc_var >= 15, ltn.Implies(power_var > limit_var, P_discharge(soc_var, power_var, limit_var)))))\n",
        "rule4 = ltn.Forall(soc_var, ltn.And(soc_var < 40, ltn.And(soc_var >= 15, ltn.Implies(power_var <= limit_var, P_charge(soc_var, power_var, limit_var)))))\n",
        "rule5 = ltn.Forall(soc_var, ltn.Implies(soc_var < 15, P_stop(soc_var)))\n",
        "# Combine all rules\n",
        "all_rules = ltn.And(rule1, rule2, rule3, rule4, rule5)\n",
        "# Ask LTN to evaluate the truth value of the rules\n",
        "satisfaction = all_rules.tensor\n",
        "print(f\"Satisfaction of the rules in the dataset: {satisfaction.item()}\")\n"
      ]
    }
  ],
  "metadata": {
    "colab": {
      "provenance": []
    },
    "kernelspec": {
      "display_name": "Python 3",
      "name": "python3"
    },
    "language_info": {
      "codemirror_mode": {
        "name": "ipython",
        "version": 3
      },
      "file_extension": ".py",
      "mimetype": "text/x-python",
      "name": "python",
      "nbconvert_exporter": "python",
      "pygments_lexer": "ipython3",
      "version": "3.10.14"
    }
  },
  "nbformat": 4,
  "nbformat_minor": 0
}
