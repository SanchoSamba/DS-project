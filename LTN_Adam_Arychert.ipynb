{
 "cells": [
  {
   "cell_type": "code",
   "execution_count": 1,
   "metadata": {},
   "outputs": [],
   "source": [
    "import torch\n",
    "import pandas as pd\n",
    "import ltn\n",
    "import numpy as np\n",
    "\n",
    "from sklearn.model_selection import train_test_split"
   ]
  },
  {
   "cell_type": "markdown",
   "metadata": {},
   "source": [
    "## Data Preparation"
   ]
  },
  {
   "cell_type": "code",
   "execution_count": 23,
   "metadata": {},
   "outputs": [],
   "source": [
    "s_data = pd.read_csv('src\\data\\Stud_E-mobility_data_staticLimit.csv')"
   ]
  },
  {
   "cell_type": "code",
   "execution_count": 24,
   "metadata": {},
   "outputs": [],
   "source": [
    "s_data = s_data[['_time','GARAGE_EXTERNAL_POWER', 'DEMAND_LIMIT',\n",
    "      #  'DEMAND_LIMIT_INDICATOR', \n",
    "       'BATTERY_SOC', 'BATTERY_DISCHARGE_POWER',\n",
    "       'BATTERY_CHARGED_ENERGY', 'BATTERY_DISCHARGED_ENERGY', 'PV_POWER',\n",
    "       'PV_ENERGY'\n",
    "    ]]"
   ]
  },
  {
   "cell_type": "code",
   "execution_count": 25,
   "metadata": {},
   "outputs": [],
   "source": [
    "def label_charging(row):\n",
    "    if row[\"BATTERY_SOC\"] > 80:\n",
    "        return \"Fully Covered by Local Battery\"\n",
    "    elif 40 <= row[\"BATTERY_SOC\"] < 80:\n",
    "        if row[\"GARAGE_EXTERNAL_POWER\"] > row[\"DEMAND_LIMIT\"]:\n",
    "            return \"Partially Covered by Local Battery\"\n",
    "        else:\n",
    "            return \"Battery Charged from Grid\"\n",
    "    elif 15 <= row[\"BATTERY_SOC\"] <= 40:\n",
    "        if row[\"GARAGE_EXTERNAL_POWER\"] > row[\"DEMAND_LIMIT\"]:\n",
    "            return \"Partially Covered by Local Battery\"\n",
    "        else:\n",
    "            return \"Battery Charged from Grid\"\n",
    "    elif row[\"BATTERY_SOC\"] < 15:\n",
    "        return \"Battery Discharge Stopped due to Battery Health\"\n",
    "    else:\n",
    "        print(row[\"BATTERY_SOC\"])\n",
    "        print(row[\"GARAGE_EXTERNAL_POWER\"])\n",
    "        return \"Unknown\"\n",
    "\n",
    "# Apply the labeling function to create the new column \"DRAWN_FROM\"\n",
    "s_data[\"DRAWN_FROM\"] = s_data.apply(label_charging, axis=1)"
   ]
  },
  {
   "cell_type": "code",
   "execution_count": 26,
   "metadata": {},
   "outputs": [],
   "source": [
    "s_data_small = s_data.sample(frac=0.4, random_state=42)"
   ]
  },
  {
   "cell_type": "code",
   "execution_count": 27,
   "metadata": {},
   "outputs": [],
   "source": [
    "features = s_data.drop(['_time','DRAWN_FROM', 'BATTERY_DISCHARGE_POWER', 'BATTERY_CHARGED_ENERGY',  'BATTERY_DISCHARGED_ENERGY', 'GARAGE_EXTERNAL_POWER'], axis=1)\n",
    "target = s_data['DRAWN_FROM']"
   ]
  },
  {
   "cell_type": "code",
   "execution_count": 28,
   "metadata": {},
   "outputs": [
    {
     "name": "stdout",
     "output_type": "stream",
     "text": [
      "DRAWN_FROM\n",
      "Battery Charged from Grid                          54783\n",
      "Partially Covered by Local Battery                  4457\n",
      "Battery Discharge Stopped due to Battery Health      202\n",
      "Name: count, dtype: int64\n"
     ]
    }
   ],
   "source": [
    "# calculate number of points in each class\n",
    "print(target.value_counts())"
   ]
  },
  {
   "cell_type": "markdown",
   "metadata": {},
   "source": [
    "## Tensor implementation tries"
   ]
  },
  {
   "cell_type": "code",
   "execution_count": null,
   "metadata": {},
   "outputs": [],
   "source": [
    "\n",
    "# class Dataset:\n",
    "\n",
    "#   def __init__(self, samples, labels, batch_size = 32):\n",
    "\n",
    "#     self.samples = samples\n",
    "#     self.labels = labels\n",
    "\n",
    "#     self.batch_size = batch_size\n",
    "\n",
    "#     self.length = int(np.ceil(samples.shape[0]/batch_size))\n",
    "\n",
    "#     self.indices = np.arange(samples.shape[0]) \n",
    "\n",
    "#   def __getitem__(self, i):\n",
    "\n",
    "#     i0 = i*self.batch_size\n",
    "#     i1 = min((i + 1)*self.batch_size, self.samples.shape[0])\n",
    "\n",
    "#     index = self.indices[i0:i1]\n",
    "\n",
    "#     return self.samples[index], self.labels[index]\n",
    "\n",
    "#   def __len__(self):\n",
    "#     return self.length\n",
    "\n",
    "#   def shuffle(self):\n",
    "#     self.indices = np.random.permutation(self.indices)"
   ]
  },
  {
   "cell_type": "code",
   "execution_count": null,
   "metadata": {},
   "outputs": [],
   "source": [
    "\n",
    "# class SubNetworkTF(nn.Module):\n",
    "#     def __init__(self, in_channels, out_channels, kernel_size=3):\n",
    "#         super().__init__()\n",
    "#         ks = (kernel_size, kernel_size)\n",
    "#         self.f = nn.Sequential(\n",
    "#             # Adjust the number of input and output channels\n",
    "#             nn.Conv2d(in_channels=in_channels, out_channels=out_channels, kernel_size=ks, stride=1, padding=0),\n",
    "#             nn.MaxPool2d(kernel_size=3, stride=2),\n",
    "#             nn.ReLU(),\n",
    "#         )\n",
    "\n",
    "#     def forward(self, x):\n",
    "#         return self.f(x)\n",
    "\n",
    "# class NetworkTF(nn.Module):\n",
    "#     def __init__(self):\n",
    "#         super().__init__()\n",
    "\n",
    "#         self.f = nn.Sequential(\n",
    "#             # The first block takes 1 input channel and produces 16 output channels\n",
    "#             SubNetworkTF(in_channels=1, out_channels=16),\n",
    "#             # The second block takes 16 input channels and produces 64 output channels\n",
    "#             SubNetworkTF(in_channels=16, out_channels=64),\n",
    "\n",
    "#             # Add a convolution layer with kernel size of 4 and 10 output channels\n",
    "#             nn.Conv2d(in_channels=64, out_channels=10, kernel_size=(4, 4), stride=1, padding=0),\n",
    "            \n",
    "#             # Flatten the output of the last convolution layer\n",
    "#             nn.Flatten(),\n",
    "#         )\n",
    "\n",
    "#     def forward(self, x):\n",
    "#         return self.f(x)\n",
    "\n"
   ]
  },
  {
   "cell_type": "code",
   "execution_count": null,
   "metadata": {},
   "outputs": [],
   "source": [
    "\n",
    "# def fit(model, number_of_epochs, train_data, train_labels, val_data, val_labels):\n",
    "#     # Define the CrossEntropyLoss and SGD optimizer\n",
    "#     criterion = nn.CrossEntropyLoss()\n",
    "#     optimizer = optim.SGD(model.parameters(), lr=0.1)  \n",
    "\n",
    "#     # Lists to store training and validation losses\n",
    "#     training_losses = []\n",
    "#     validation_losses = []\n",
    "\n",
    "#     best_model = None\n",
    "#     best_val_loss = float('inf')  # Initialize with a large value\n",
    "\n",
    "#     for epoch in range(number_of_epochs):\n",
    "#         # Set the model to training mode\n",
    "#         model.train()\n",
    "\n",
    "#         # Forward pass\n",
    "#         train_outputs = model(train_data)\n",
    "#         train_loss = criterion(train_outputs, train_labels)\n",
    "\n",
    "#         # Backward pass and optimization\n",
    "#         optimizer.zero_grad()\n",
    "#         train_loss.backward()\n",
    "#         optimizer.step()\n",
    "\n",
    "#         # Set the model to evaluation mode\n",
    "#         model.eval()\n",
    "\n",
    "#         # Forward pass for validation\n",
    "#         with torch.no_grad():\n",
    "#             val_outputs = model(val_data)\n",
    "#             val_loss = criterion(val_outputs, val_labels)\n",
    "\n",
    "#         # Save training and validation losses\n",
    "#         training_losses.append(train_loss.item())\n",
    "#         validation_losses.append(val_loss.item())\n",
    "\n",
    "#         # Update best model if current validation loss is lower\n",
    "#         if val_loss < best_val_loss:\n",
    "#             best_val_loss = val_loss\n",
    "#             best_model = model\n",
    "\n",
    "#         print(f'Epoch [{epoch + 1}/{number_of_epochs}], '\n",
    "#               f'Training Loss: {train_loss.item():.4f}, '\n",
    "#               f'Validation Loss: {val_loss.item():.4f}')\n",
    "\n",
    "#     return best_model, training_losses, validation_losses"
   ]
  },
  {
   "cell_type": "code",
   "execution_count": null,
   "metadata": {},
   "outputs": [],
   "source": [
    "# # Define a function to convert labels to one-hot encoding\n",
    "# def one_hot_encode(labels, num_classes):\n",
    "#     return F.one_hot(labels, num_classes=num_classes)\n",
    "\n",
    "# def preprocess_data(samples, labels):\n",
    "#     print(labels)\n",
    "#     labels = torch.Tensor(labels)  # Convert labels to PyTorch Tensor\n",
    "#     labels_one_hot = one_hot_encode(labels.long(), num_classes=3)  # Assuming 3 classes\n",
    "#     return torch.Tensor(samples.values), labels_one_hot  # Convert DataFrame to numpy array before converting to Tensor"
   ]
  },
  {
   "cell_type": "code",
   "execution_count": 34,
   "metadata": {},
   "outputs": [],
   "source": [
    "# # split the data into training and validation sets\n",
    "# train_samples, val_samples, train_labels, val_labels = train_test_split(features, target, test_size=0.2, random_state=42)"
   ]
  },
  {
   "cell_type": "code",
   "execution_count": 35,
   "metadata": {},
   "outputs": [
    {
     "ename": "NameError",
     "evalue": "name 'preprocess_data' is not defined",
     "output_type": "error",
     "traceback": [
      "\u001b[1;31m---------------------------------------------------------------------------\u001b[0m",
      "\u001b[1;31mNameError\u001b[0m                                 Traceback (most recent call last)",
      "Cell \u001b[1;32mIn[35], line 11\u001b[0m\n\u001b[0;32m      8\u001b[0m val_labels \u001b[38;5;241m=\u001b[39m encoder\u001b[38;5;241m.\u001b[39mtransform(val_labels)\n\u001b[0;32m     10\u001b[0m \u001b[38;5;66;03m# Now you can preprocess the data\u001b[39;00m\n\u001b[1;32m---> 11\u001b[0m train_samples, train_labels \u001b[38;5;241m=\u001b[39m \u001b[43mpreprocess_data\u001b[49m(train_samples, train_labels)\n\u001b[0;32m     12\u001b[0m val_samples, val_labels \u001b[38;5;241m=\u001b[39m preprocess_data(val_samples, val_labels)\n",
      "\u001b[1;31mNameError\u001b[0m: name 'preprocess_data' is not defined"
     ]
    }
   ],
   "source": [
    "# from sklearn.preprocessing import LabelEncoder\n",
    "\n",
    "# # Instantiate the encoder\n",
    "# encoder = LabelEncoder()\n",
    "\n",
    "# # Fit and transform the labels\n",
    "# train_labels = encoder.fit_transform(train_labels)\n",
    "# val_labels = encoder.transform(val_labels)\n",
    "\n",
    "# # Now you can preprocess the data\n",
    "# train_samples, train_labels = preprocess_data(train_samples, train_labels)\n",
    "# val_samples, val_labels = preprocess_data(val_samples, val_labels)"
   ]
  },
  {
   "cell_type": "code",
   "execution_count": null,
   "metadata": {},
   "outputs": [],
   "source": [
    "# train_dataset = TensorDataset(train_samples, train_labels)\n",
    "# val_dataset = TensorDataset(val_samples, val_labels)"
   ]
  },
  {
   "cell_type": "code",
   "execution_count": null,
   "metadata": {},
   "outputs": [],
   "source": [
    "# tf_model = NetworkTF()\n",
    "# x,y = train_dataset[0]\n",
    "# vx,vy = val_dataset[0]\n",
    "# # y = y.argmax(dim=1)\n",
    "# # vy = vy.argmax(dim=1)\n"
   ]
  },
  {
   "cell_type": "code",
   "execution_count": null,
   "metadata": {},
   "outputs": [],
   "source": [
    "# num_epochs = 10\n",
    "# best_pytorch_model, pytorch_train_losses, pytorch_val_losses = fit(tf_model, num_epochs, x, y, vx, vy)\n"
   ]
  },
  {
   "cell_type": "markdown",
   "metadata": {},
   "source": [
    "# Logic Tensor Networks\n"
   ]
  },
  {
   "cell_type": "code",
   "execution_count": 29,
   "metadata": {},
   "outputs": [],
   "source": [
    "from sklearn.preprocessing import LabelEncoder\n",
    "encoder = LabelEncoder()\n",
    "en_targ = encoder.fit_transform(target)"
   ]
  },
  {
   "cell_type": "code",
   "execution_count": 30,
   "metadata": {},
   "outputs": [
    {
     "data": {
      "text/plain": [
       "array([0, 1, 2])"
      ]
     },
     "execution_count": 30,
     "metadata": {},
     "output_type": "execute_result"
    }
   ],
   "source": [
    "# Get unique values of the target\n",
    "unique_values = np.unique(en_targ)\n",
    "unique_values"
   ]
  },
  {
   "cell_type": "code",
   "execution_count": 31,
   "metadata": {},
   "outputs": [],
   "source": [
    "\n",
    "features_train, features_test, target_train, target_test = train_test_split(features, en_targ, test_size=0.2, random_state=42)"
   ]
  },
  {
   "cell_type": "code",
   "execution_count": 32,
   "metadata": {},
   "outputs": [],
   "source": [
    "features_train = torch.tensor(features_train.to_numpy()).float()\n",
    "# target_train = torch.tensor(target_train.to_numpy()).long()\n",
    "features_test = torch.tensor(features_test.to_numpy()).float()\n",
    "# target_test = torch.tensor(target_test.to_numpy()).long()"
   ]
  },
  {
   "cell_type": "code",
   "execution_count": 33,
   "metadata": {},
   "outputs": [],
   "source": [
    "l_A = ltn.Constant(torch.tensor([1, 0, 0]))\n",
    "l_B = ltn.Constant(torch.tensor([0, 1, 0]))\n",
    "l_C = ltn.Constant(torch.tensor([0, 0, 1]))"
   ]
  },
  {
   "cell_type": "code",
   "execution_count": 34,
   "metadata": {},
   "outputs": [],
   "source": [
    "class MLP(torch.nn.Module):\n",
    "    def __init__(self, layer_sizes=(4, 100, 52, 52, 3)):\n",
    "        super(MLP, self).__init__()\n",
    "        self.elu = torch.nn.ELU()\n",
    "        self.dropout = torch.nn.Dropout(0.2)\n",
    "        self.linear_layers = torch.nn.ModuleList([torch.nn.Linear(layer_sizes[i - 1], layer_sizes[i])\n",
    "                                                  for i in range(1, len(layer_sizes))])\n",
    "\n",
    "    def forward(self, x, training=False):\n",
    "        for layer in self.linear_layers[:-1]:\n",
    "            x = self.elu(layer(x))\n",
    "            if training:\n",
    "                x = self.dropout(x)\n",
    "        logits = self.linear_layers[-1](x)\n",
    "        return logits\n",
    "\n",
    "class LogitsToPredicate(torch.nn.Module):\n",
    "    \"\"\"\n",
    "    This model has inside a logits model, that is a model which compute logits for the classes given an input example x.\n",
    "    The idea of this model is to keep logits and probabilities separated. The logits model returns the logits for an example,\n",
    "    while this model returns the probabilities given the logits model.\n",
    "\n",
    "    In particular, it takes as input an example x and a class label l. It applies the logits model to x to get the logits.\n",
    "    Then, it applies a softmax function to get the probabilities per classes. Finally, it returns only the probability related\n",
    "    to the given class l.\n",
    "    \"\"\"\n",
    "    def __init__(self, logits_model):\n",
    "        super(LogitsToPredicate, self).__init__()\n",
    "        self.logits_model = logits_model\n",
    "        self.softmax = torch.nn.Softmax(dim=1)\n",
    "\n",
    "    def forward(self, x, l, training=False):\n",
    "        logits = self.logits_model(x, training=training)\n",
    "        probs = self.softmax(logits)\n",
    "        out = torch.sum(probs * l, dim=1)\n",
    "        return out\n"
   ]
  },
  {
   "cell_type": "code",
   "execution_count": 35,
   "metadata": {},
   "outputs": [],
   "source": [
    "mlp = MLP()\n",
    "P = ltn.Predicate(LogitsToPredicate(mlp))\n",
    "\n",
    "# we define the connectives, quantifiers, and the SatAgg\n",
    "Forall = ltn.Quantifier(ltn.fuzzy_ops.AggregPMeanError(p=2), quantifier=\"f\")\n",
    "SatAgg = ltn.fuzzy_ops.SatAgg()"
   ]
  },
  {
   "cell_type": "markdown",
   "metadata": {},
   "source": [
    "### Utils"
   ]
  },
  {
   "cell_type": "code",
   "execution_count": 36,
   "metadata": {},
   "outputs": [],
   "source": [
    "from sklearn.metrics import accuracy_score"
   ]
  },
  {
   "cell_type": "code",
   "execution_count": 37,
   "metadata": {},
   "outputs": [],
   "source": [
    "class DataLoader(object):\n",
    "    def __init__(self,\n",
    "                 data,\n",
    "                 labels,\n",
    "                 batch_size=1,\n",
    "                 shuffle=True):\n",
    "        self.data = data\n",
    "        self.labels = labels\n",
    "        self.batch_size = batch_size\n",
    "        self.shuffle = shuffle\n",
    "        self.unique_labels = np.unique(labels) \n",
    "\n",
    "    def __len__(self):\n",
    "        return int(np.ceil(self.data.shape[0] / self.batch_size))\n",
    "\n",
    "    def __iter__(self):\n",
    "        # Create a list of indices for each class\n",
    "        indices_per_class = {label: np.where(self.labels == label)[0] for label in self.unique_labels}\n",
    "\n",
    "        # Calculate the number of samples per class in each batch\n",
    "        samples_per_class = self.batch_size // len(self.unique_labels)\n",
    "\n",
    "        for _ in range(len(self)):\n",
    "            batch_indices = []\n",
    "\n",
    "            for label in self.unique_labels:\n",
    "                # Randomly sample indices for this class\n",
    "                class_indices = np.random.choice(indices_per_class[label], size=samples_per_class, replace=True)\n",
    "                batch_indices.extend(class_indices)\n",
    "\n",
    "            # If the batch size is not a multiple of the number of classes, fill the rest of the batch randomly\n",
    "            if len(batch_indices) < self.batch_size:\n",
    "                extra_indices = np.random.choice(np.arange(len(self.labels)), size=self.batch_size - len(batch_indices))\n",
    "                batch_indices.extend(extra_indices)\n",
    "\n",
    "            if self.shuffle:\n",
    "                np.random.shuffle(batch_indices)\n",
    "\n",
    "            yield self.data[batch_indices], self.labels[batch_indices]"
   ]
  },
  {
   "cell_type": "code",
   "execution_count": 38,
   "metadata": {},
   "outputs": [],
   "source": [
    "def compute_sat_level(loader):\n",
    "    mean_sat = 0\n",
    "    for data, labels in loader:\n",
    "        x_A = ltn.Variable(\"x_A\", data[labels == 0])\n",
    "        x_B = ltn.Variable(\"x_B\", data[labels == 1])\n",
    "        x_C = ltn.Variable(\"x_C\", data[labels == 2])\n",
    "        mean_sat += SatAgg(\n",
    "            Forall(x_A, P(x_A, l_A)),\n",
    "            Forall(x_B, P(x_B, l_B)),\n",
    "            Forall(x_C, P(x_C, l_C))\n",
    "        )\n",
    "    mean_sat /= len(loader)\n",
    "    return mean_sat"
   ]
  },
  {
   "cell_type": "code",
   "execution_count": 39,
   "metadata": {},
   "outputs": [],
   "source": [
    "def compute_accuracy(loader):\n",
    "    mean_accuracy = 0.0\n",
    "    for data, labels in loader:\n",
    "        predictions = mlp(data).detach().numpy()\n",
    "        predictions = np.argmax(predictions, axis=1)\n",
    "        mean_accuracy += accuracy_score(labels, predictions)\n",
    "\n",
    "    return mean_accuracy / len(loader)\n"
   ]
  },
  {
   "cell_type": "code",
   "execution_count": 40,
   "metadata": {},
   "outputs": [],
   "source": [
    "\n",
    "# features_train, features_test, target_train, target_test\n",
    "# create train and test loader\n",
    "train_loader = DataLoader(features_train, target_train, 256, shuffle=True)\n",
    "test_loader = DataLoader(features_test, target_test, 256, shuffle=False)"
   ]
  },
  {
   "cell_type": "code",
   "execution_count": 41,
   "metadata": {},
   "outputs": [
    {
     "data": {
      "text/plain": [
       "(array([0, 1, 2]), array([43811,   165,  3577], dtype=int64))"
      ]
     },
     "execution_count": 41,
     "metadata": {},
     "output_type": "execute_result"
    }
   ],
   "source": [
    "# get unique values of the target and how much there is of each\n",
    "unique_values, counts = np.unique(target_train, return_counts=True)\n",
    "unique_values, counts"
   ]
  },
  {
   "cell_type": "code",
   "execution_count": 42,
   "metadata": {},
   "outputs": [
    {
     "name": "stdout",
     "output_type": "stream",
     "text": [
      " epoch 0 | loss 0.4090 | Train Sat 0.655 | Test Sat 0.660 | Train Acc 0.837 | Test Acc 0.843\n",
      " epoch 20 | loss 0.2712 | Train Sat 0.735 | Test Sat 0.736 | Train Acc 0.919 | Test Acc 0.922\n",
      " epoch 40 | loss 0.2641 | Train Sat 0.747 | Test Sat 0.751 | Train Acc 0.921 | Test Acc 0.922\n"
     ]
    },
    {
     "ename": "KeyboardInterrupt",
     "evalue": "",
     "output_type": "error",
     "traceback": [
      "\u001b[1;31m---------------------------------------------------------------------------\u001b[0m",
      "\u001b[1;31mKeyboardInterrupt\u001b[0m                         Traceback (most recent call last)",
      "Cell \u001b[1;32mIn[42], line 14\u001b[0m\n\u001b[0;32m     10\u001b[0m x_C \u001b[38;5;241m=\u001b[39m ltn\u001b[38;5;241m.\u001b[39mVariable(\u001b[38;5;124m\"\u001b[39m\u001b[38;5;124mx_C\u001b[39m\u001b[38;5;124m\"\u001b[39m, data[labels \u001b[38;5;241m==\u001b[39m \u001b[38;5;241m2\u001b[39m]) \u001b[38;5;66;03m# class C examples\u001b[39;00m\n\u001b[0;32m     11\u001b[0m \u001b[38;5;66;03m# print(x_B)\u001b[39;00m\n\u001b[0;32m     12\u001b[0m sat_agg \u001b[38;5;241m=\u001b[39m SatAgg(\n\u001b[0;32m     13\u001b[0m     Forall(x_A, P(x_A, l_A, training\u001b[38;5;241m=\u001b[39m\u001b[38;5;28;01mTrue\u001b[39;00m)),\n\u001b[1;32m---> 14\u001b[0m     Forall(x_B, \u001b[43mP\u001b[49m\u001b[43m(\u001b[49m\u001b[43mx_B\u001b[49m\u001b[43m,\u001b[49m\u001b[43m \u001b[49m\u001b[43ml_B\u001b[49m\u001b[43m,\u001b[49m\u001b[43m \u001b[49m\u001b[43mtraining\u001b[49m\u001b[38;5;241;43m=\u001b[39;49m\u001b[38;5;28;43;01mTrue\u001b[39;49;00m\u001b[43m)\u001b[49m),\n\u001b[0;32m     15\u001b[0m     Forall(x_C, P(x_C, l_C, training\u001b[38;5;241m=\u001b[39m\u001b[38;5;28;01mTrue\u001b[39;00m))\n\u001b[0;32m     16\u001b[0m )\n\u001b[0;32m     17\u001b[0m loss \u001b[38;5;241m=\u001b[39m \u001b[38;5;241m1.\u001b[39m \u001b[38;5;241m-\u001b[39m sat_agg\n\u001b[0;32m     18\u001b[0m loss\u001b[38;5;241m.\u001b[39mbackward()\n",
      "File \u001b[1;32mc:\\Users\\adamr\\anaconda3\\envs\\LTN\\lib\\site-packages\\torch\\nn\\modules\\module.py:1532\u001b[0m, in \u001b[0;36mModule._wrapped_call_impl\u001b[1;34m(self, *args, **kwargs)\u001b[0m\n\u001b[0;32m   1530\u001b[0m     \u001b[38;5;28;01mreturn\u001b[39;00m \u001b[38;5;28mself\u001b[39m\u001b[38;5;241m.\u001b[39m_compiled_call_impl(\u001b[38;5;241m*\u001b[39margs, \u001b[38;5;241m*\u001b[39m\u001b[38;5;241m*\u001b[39mkwargs)  \u001b[38;5;66;03m# type: ignore[misc]\u001b[39;00m\n\u001b[0;32m   1531\u001b[0m \u001b[38;5;28;01melse\u001b[39;00m:\n\u001b[1;32m-> 1532\u001b[0m     \u001b[38;5;28;01mreturn\u001b[39;00m \u001b[38;5;28;43mself\u001b[39;49m\u001b[38;5;241;43m.\u001b[39;49m\u001b[43m_call_impl\u001b[49m\u001b[43m(\u001b[49m\u001b[38;5;241;43m*\u001b[39;49m\u001b[43margs\u001b[49m\u001b[43m,\u001b[49m\u001b[43m \u001b[49m\u001b[38;5;241;43m*\u001b[39;49m\u001b[38;5;241;43m*\u001b[39;49m\u001b[43mkwargs\u001b[49m\u001b[43m)\u001b[49m\n",
      "File \u001b[1;32mc:\\Users\\adamr\\anaconda3\\envs\\LTN\\lib\\site-packages\\torch\\nn\\modules\\module.py:1541\u001b[0m, in \u001b[0;36mModule._call_impl\u001b[1;34m(self, *args, **kwargs)\u001b[0m\n\u001b[0;32m   1536\u001b[0m \u001b[38;5;66;03m# If we don't have any hooks, we want to skip the rest of the logic in\u001b[39;00m\n\u001b[0;32m   1537\u001b[0m \u001b[38;5;66;03m# this function, and just call forward.\u001b[39;00m\n\u001b[0;32m   1538\u001b[0m \u001b[38;5;28;01mif\u001b[39;00m \u001b[38;5;129;01mnot\u001b[39;00m (\u001b[38;5;28mself\u001b[39m\u001b[38;5;241m.\u001b[39m_backward_hooks \u001b[38;5;129;01mor\u001b[39;00m \u001b[38;5;28mself\u001b[39m\u001b[38;5;241m.\u001b[39m_backward_pre_hooks \u001b[38;5;129;01mor\u001b[39;00m \u001b[38;5;28mself\u001b[39m\u001b[38;5;241m.\u001b[39m_forward_hooks \u001b[38;5;129;01mor\u001b[39;00m \u001b[38;5;28mself\u001b[39m\u001b[38;5;241m.\u001b[39m_forward_pre_hooks\n\u001b[0;32m   1539\u001b[0m         \u001b[38;5;129;01mor\u001b[39;00m _global_backward_pre_hooks \u001b[38;5;129;01mor\u001b[39;00m _global_backward_hooks\n\u001b[0;32m   1540\u001b[0m         \u001b[38;5;129;01mor\u001b[39;00m _global_forward_hooks \u001b[38;5;129;01mor\u001b[39;00m _global_forward_pre_hooks):\n\u001b[1;32m-> 1541\u001b[0m     \u001b[38;5;28;01mreturn\u001b[39;00m \u001b[43mforward_call\u001b[49m\u001b[43m(\u001b[49m\u001b[38;5;241;43m*\u001b[39;49m\u001b[43margs\u001b[49m\u001b[43m,\u001b[49m\u001b[43m \u001b[49m\u001b[38;5;241;43m*\u001b[39;49m\u001b[38;5;241;43m*\u001b[39;49m\u001b[43mkwargs\u001b[49m\u001b[43m)\u001b[49m\n\u001b[0;32m   1543\u001b[0m \u001b[38;5;28;01mtry\u001b[39;00m:\n\u001b[0;32m   1544\u001b[0m     result \u001b[38;5;241m=\u001b[39m \u001b[38;5;28;01mNone\u001b[39;00m\n",
      "File \u001b[1;32mc:\\Users\\adamr\\anaconda3\\envs\\LTN\\lib\\site-packages\\ltn\\core.py:613\u001b[0m, in \u001b[0;36mPredicate.forward\u001b[1;34m(self, *inputs, **kwargs)\u001b[0m\n\u001b[0;32m    610\u001b[0m proc_objs, output_vars, output_shape \u001b[38;5;241m=\u001b[39m process_ltn_objects(inputs)\n\u001b[0;32m    612\u001b[0m \u001b[38;5;66;03m# the management of the input is left to the model or the lambda function\u001b[39;00m\n\u001b[1;32m--> 613\u001b[0m output \u001b[38;5;241m=\u001b[39m \u001b[38;5;28;43mself\u001b[39;49m\u001b[38;5;241;43m.\u001b[39;49m\u001b[43mmodel\u001b[49m\u001b[43m(\u001b[49m\u001b[38;5;241;43m*\u001b[39;49m\u001b[43m[\u001b[49m\u001b[43mo\u001b[49m\u001b[38;5;241;43m.\u001b[39;49m\u001b[43mvalue\u001b[49m\u001b[43m \u001b[49m\u001b[38;5;28;43;01mfor\u001b[39;49;00m\u001b[43m \u001b[49m\u001b[43mo\u001b[49m\u001b[43m \u001b[49m\u001b[38;5;129;43;01min\u001b[39;49;00m\u001b[43m \u001b[49m\u001b[43mproc_objs\u001b[49m\u001b[43m]\u001b[49m\u001b[43m,\u001b[49m\u001b[43m \u001b[49m\u001b[38;5;241;43m*\u001b[39;49m\u001b[38;5;241;43m*\u001b[39;49m\u001b[43mkwargs\u001b[49m\u001b[43m)\u001b[49m\n\u001b[0;32m    615\u001b[0m \u001b[38;5;66;03m# check if output of predicate contains only truth values, namely values in the range [0., 1.]\u001b[39;00m\n\u001b[0;32m    616\u001b[0m \u001b[38;5;28;01mif\u001b[39;00m \u001b[38;5;129;01mnot\u001b[39;00m torch\u001b[38;5;241m.\u001b[39mall(torch\u001b[38;5;241m.\u001b[39mwhere(torch\u001b[38;5;241m.\u001b[39mlogical_and(output \u001b[38;5;241m>\u001b[39m\u001b[38;5;241m=\u001b[39m \u001b[38;5;241m0.\u001b[39m, output \u001b[38;5;241m<\u001b[39m\u001b[38;5;241m=\u001b[39m \u001b[38;5;241m1.\u001b[39m), \u001b[38;5;241m1.\u001b[39m, \u001b[38;5;241m0.\u001b[39m)):\n",
      "File \u001b[1;32mc:\\Users\\adamr\\anaconda3\\envs\\LTN\\lib\\site-packages\\torch\\nn\\modules\\module.py:1532\u001b[0m, in \u001b[0;36mModule._wrapped_call_impl\u001b[1;34m(self, *args, **kwargs)\u001b[0m\n\u001b[0;32m   1530\u001b[0m     \u001b[38;5;28;01mreturn\u001b[39;00m \u001b[38;5;28mself\u001b[39m\u001b[38;5;241m.\u001b[39m_compiled_call_impl(\u001b[38;5;241m*\u001b[39margs, \u001b[38;5;241m*\u001b[39m\u001b[38;5;241m*\u001b[39mkwargs)  \u001b[38;5;66;03m# type: ignore[misc]\u001b[39;00m\n\u001b[0;32m   1531\u001b[0m \u001b[38;5;28;01melse\u001b[39;00m:\n\u001b[1;32m-> 1532\u001b[0m     \u001b[38;5;28;01mreturn\u001b[39;00m \u001b[38;5;28;43mself\u001b[39;49m\u001b[38;5;241;43m.\u001b[39;49m\u001b[43m_call_impl\u001b[49m\u001b[43m(\u001b[49m\u001b[38;5;241;43m*\u001b[39;49m\u001b[43margs\u001b[49m\u001b[43m,\u001b[49m\u001b[43m \u001b[49m\u001b[38;5;241;43m*\u001b[39;49m\u001b[38;5;241;43m*\u001b[39;49m\u001b[43mkwargs\u001b[49m\u001b[43m)\u001b[49m\n",
      "File \u001b[1;32mc:\\Users\\adamr\\anaconda3\\envs\\LTN\\lib\\site-packages\\torch\\nn\\modules\\module.py:1541\u001b[0m, in \u001b[0;36mModule._call_impl\u001b[1;34m(self, *args, **kwargs)\u001b[0m\n\u001b[0;32m   1536\u001b[0m \u001b[38;5;66;03m# If we don't have any hooks, we want to skip the rest of the logic in\u001b[39;00m\n\u001b[0;32m   1537\u001b[0m \u001b[38;5;66;03m# this function, and just call forward.\u001b[39;00m\n\u001b[0;32m   1538\u001b[0m \u001b[38;5;28;01mif\u001b[39;00m \u001b[38;5;129;01mnot\u001b[39;00m (\u001b[38;5;28mself\u001b[39m\u001b[38;5;241m.\u001b[39m_backward_hooks \u001b[38;5;129;01mor\u001b[39;00m \u001b[38;5;28mself\u001b[39m\u001b[38;5;241m.\u001b[39m_backward_pre_hooks \u001b[38;5;129;01mor\u001b[39;00m \u001b[38;5;28mself\u001b[39m\u001b[38;5;241m.\u001b[39m_forward_hooks \u001b[38;5;129;01mor\u001b[39;00m \u001b[38;5;28mself\u001b[39m\u001b[38;5;241m.\u001b[39m_forward_pre_hooks\n\u001b[0;32m   1539\u001b[0m         \u001b[38;5;129;01mor\u001b[39;00m _global_backward_pre_hooks \u001b[38;5;129;01mor\u001b[39;00m _global_backward_hooks\n\u001b[0;32m   1540\u001b[0m         \u001b[38;5;129;01mor\u001b[39;00m _global_forward_hooks \u001b[38;5;129;01mor\u001b[39;00m _global_forward_pre_hooks):\n\u001b[1;32m-> 1541\u001b[0m     \u001b[38;5;28;01mreturn\u001b[39;00m \u001b[43mforward_call\u001b[49m\u001b[43m(\u001b[49m\u001b[38;5;241;43m*\u001b[39;49m\u001b[43margs\u001b[49m\u001b[43m,\u001b[49m\u001b[43m \u001b[49m\u001b[38;5;241;43m*\u001b[39;49m\u001b[38;5;241;43m*\u001b[39;49m\u001b[43mkwargs\u001b[49m\u001b[43m)\u001b[49m\n\u001b[0;32m   1543\u001b[0m \u001b[38;5;28;01mtry\u001b[39;00m:\n\u001b[0;32m   1544\u001b[0m     result \u001b[38;5;241m=\u001b[39m \u001b[38;5;28;01mNone\u001b[39;00m\n",
      "Cell \u001b[1;32mIn[34], line 33\u001b[0m, in \u001b[0;36mLogitsToPredicate.forward\u001b[1;34m(self, x, l, training)\u001b[0m\n\u001b[0;32m     32\u001b[0m \u001b[38;5;28;01mdef\u001b[39;00m \u001b[38;5;21mforward\u001b[39m(\u001b[38;5;28mself\u001b[39m, x, l, training\u001b[38;5;241m=\u001b[39m\u001b[38;5;28;01mFalse\u001b[39;00m):\n\u001b[1;32m---> 33\u001b[0m     logits \u001b[38;5;241m=\u001b[39m \u001b[38;5;28;43mself\u001b[39;49m\u001b[38;5;241;43m.\u001b[39;49m\u001b[43mlogits_model\u001b[49m\u001b[43m(\u001b[49m\u001b[43mx\u001b[49m\u001b[43m,\u001b[49m\u001b[43m \u001b[49m\u001b[43mtraining\u001b[49m\u001b[38;5;241;43m=\u001b[39;49m\u001b[43mtraining\u001b[49m\u001b[43m)\u001b[49m\n\u001b[0;32m     34\u001b[0m     probs \u001b[38;5;241m=\u001b[39m \u001b[38;5;28mself\u001b[39m\u001b[38;5;241m.\u001b[39msoftmax(logits)\n\u001b[0;32m     35\u001b[0m     out \u001b[38;5;241m=\u001b[39m torch\u001b[38;5;241m.\u001b[39msum(probs \u001b[38;5;241m*\u001b[39m l, dim\u001b[38;5;241m=\u001b[39m\u001b[38;5;241m1\u001b[39m)\n",
      "File \u001b[1;32mc:\\Users\\adamr\\anaconda3\\envs\\LTN\\lib\\site-packages\\torch\\nn\\modules\\module.py:1532\u001b[0m, in \u001b[0;36mModule._wrapped_call_impl\u001b[1;34m(self, *args, **kwargs)\u001b[0m\n\u001b[0;32m   1530\u001b[0m     \u001b[38;5;28;01mreturn\u001b[39;00m \u001b[38;5;28mself\u001b[39m\u001b[38;5;241m.\u001b[39m_compiled_call_impl(\u001b[38;5;241m*\u001b[39margs, \u001b[38;5;241m*\u001b[39m\u001b[38;5;241m*\u001b[39mkwargs)  \u001b[38;5;66;03m# type: ignore[misc]\u001b[39;00m\n\u001b[0;32m   1531\u001b[0m \u001b[38;5;28;01melse\u001b[39;00m:\n\u001b[1;32m-> 1532\u001b[0m     \u001b[38;5;28;01mreturn\u001b[39;00m \u001b[38;5;28;43mself\u001b[39;49m\u001b[38;5;241;43m.\u001b[39;49m\u001b[43m_call_impl\u001b[49m\u001b[43m(\u001b[49m\u001b[38;5;241;43m*\u001b[39;49m\u001b[43margs\u001b[49m\u001b[43m,\u001b[49m\u001b[43m \u001b[49m\u001b[38;5;241;43m*\u001b[39;49m\u001b[38;5;241;43m*\u001b[39;49m\u001b[43mkwargs\u001b[49m\u001b[43m)\u001b[49m\n",
      "File \u001b[1;32mc:\\Users\\adamr\\anaconda3\\envs\\LTN\\lib\\site-packages\\torch\\nn\\modules\\module.py:1541\u001b[0m, in \u001b[0;36mModule._call_impl\u001b[1;34m(self, *args, **kwargs)\u001b[0m\n\u001b[0;32m   1536\u001b[0m \u001b[38;5;66;03m# If we don't have any hooks, we want to skip the rest of the logic in\u001b[39;00m\n\u001b[0;32m   1537\u001b[0m \u001b[38;5;66;03m# this function, and just call forward.\u001b[39;00m\n\u001b[0;32m   1538\u001b[0m \u001b[38;5;28;01mif\u001b[39;00m \u001b[38;5;129;01mnot\u001b[39;00m (\u001b[38;5;28mself\u001b[39m\u001b[38;5;241m.\u001b[39m_backward_hooks \u001b[38;5;129;01mor\u001b[39;00m \u001b[38;5;28mself\u001b[39m\u001b[38;5;241m.\u001b[39m_backward_pre_hooks \u001b[38;5;129;01mor\u001b[39;00m \u001b[38;5;28mself\u001b[39m\u001b[38;5;241m.\u001b[39m_forward_hooks \u001b[38;5;129;01mor\u001b[39;00m \u001b[38;5;28mself\u001b[39m\u001b[38;5;241m.\u001b[39m_forward_pre_hooks\n\u001b[0;32m   1539\u001b[0m         \u001b[38;5;129;01mor\u001b[39;00m _global_backward_pre_hooks \u001b[38;5;129;01mor\u001b[39;00m _global_backward_hooks\n\u001b[0;32m   1540\u001b[0m         \u001b[38;5;129;01mor\u001b[39;00m _global_forward_hooks \u001b[38;5;129;01mor\u001b[39;00m _global_forward_pre_hooks):\n\u001b[1;32m-> 1541\u001b[0m     \u001b[38;5;28;01mreturn\u001b[39;00m \u001b[43mforward_call\u001b[49m\u001b[43m(\u001b[49m\u001b[38;5;241;43m*\u001b[39;49m\u001b[43margs\u001b[49m\u001b[43m,\u001b[49m\u001b[43m \u001b[49m\u001b[38;5;241;43m*\u001b[39;49m\u001b[38;5;241;43m*\u001b[39;49m\u001b[43mkwargs\u001b[49m\u001b[43m)\u001b[49m\n\u001b[0;32m   1543\u001b[0m \u001b[38;5;28;01mtry\u001b[39;00m:\n\u001b[0;32m   1544\u001b[0m     result \u001b[38;5;241m=\u001b[39m \u001b[38;5;28;01mNone\u001b[39;00m\n",
      "Cell \u001b[1;32mIn[34], line 11\u001b[0m, in \u001b[0;36mMLP.forward\u001b[1;34m(self, x, training)\u001b[0m\n\u001b[0;32m      9\u001b[0m \u001b[38;5;28;01mdef\u001b[39;00m \u001b[38;5;21mforward\u001b[39m(\u001b[38;5;28mself\u001b[39m, x, training\u001b[38;5;241m=\u001b[39m\u001b[38;5;28;01mFalse\u001b[39;00m):\n\u001b[0;32m     10\u001b[0m     \u001b[38;5;28;01mfor\u001b[39;00m layer \u001b[38;5;129;01min\u001b[39;00m \u001b[38;5;28mself\u001b[39m\u001b[38;5;241m.\u001b[39mlinear_layers[:\u001b[38;5;241m-\u001b[39m\u001b[38;5;241m1\u001b[39m]:\n\u001b[1;32m---> 11\u001b[0m         x \u001b[38;5;241m=\u001b[39m \u001b[38;5;28mself\u001b[39m\u001b[38;5;241m.\u001b[39melu(\u001b[43mlayer\u001b[49m\u001b[43m(\u001b[49m\u001b[43mx\u001b[49m\u001b[43m)\u001b[49m)\n\u001b[0;32m     12\u001b[0m         \u001b[38;5;28;01mif\u001b[39;00m training:\n\u001b[0;32m     13\u001b[0m             x \u001b[38;5;241m=\u001b[39m \u001b[38;5;28mself\u001b[39m\u001b[38;5;241m.\u001b[39mdropout(x)\n",
      "File \u001b[1;32mc:\\Users\\adamr\\anaconda3\\envs\\LTN\\lib\\site-packages\\torch\\nn\\modules\\module.py:1532\u001b[0m, in \u001b[0;36mModule._wrapped_call_impl\u001b[1;34m(self, *args, **kwargs)\u001b[0m\n\u001b[0;32m   1530\u001b[0m     \u001b[38;5;28;01mreturn\u001b[39;00m \u001b[38;5;28mself\u001b[39m\u001b[38;5;241m.\u001b[39m_compiled_call_impl(\u001b[38;5;241m*\u001b[39margs, \u001b[38;5;241m*\u001b[39m\u001b[38;5;241m*\u001b[39mkwargs)  \u001b[38;5;66;03m# type: ignore[misc]\u001b[39;00m\n\u001b[0;32m   1531\u001b[0m \u001b[38;5;28;01melse\u001b[39;00m:\n\u001b[1;32m-> 1532\u001b[0m     \u001b[38;5;28;01mreturn\u001b[39;00m \u001b[38;5;28;43mself\u001b[39;49m\u001b[38;5;241;43m.\u001b[39;49m\u001b[43m_call_impl\u001b[49m\u001b[43m(\u001b[49m\u001b[38;5;241;43m*\u001b[39;49m\u001b[43margs\u001b[49m\u001b[43m,\u001b[49m\u001b[43m \u001b[49m\u001b[38;5;241;43m*\u001b[39;49m\u001b[38;5;241;43m*\u001b[39;49m\u001b[43mkwargs\u001b[49m\u001b[43m)\u001b[49m\n",
      "File \u001b[1;32mc:\\Users\\adamr\\anaconda3\\envs\\LTN\\lib\\site-packages\\torch\\nn\\modules\\module.py:1541\u001b[0m, in \u001b[0;36mModule._call_impl\u001b[1;34m(self, *args, **kwargs)\u001b[0m\n\u001b[0;32m   1536\u001b[0m \u001b[38;5;66;03m# If we don't have any hooks, we want to skip the rest of the logic in\u001b[39;00m\n\u001b[0;32m   1537\u001b[0m \u001b[38;5;66;03m# this function, and just call forward.\u001b[39;00m\n\u001b[0;32m   1538\u001b[0m \u001b[38;5;28;01mif\u001b[39;00m \u001b[38;5;129;01mnot\u001b[39;00m (\u001b[38;5;28mself\u001b[39m\u001b[38;5;241m.\u001b[39m_backward_hooks \u001b[38;5;129;01mor\u001b[39;00m \u001b[38;5;28mself\u001b[39m\u001b[38;5;241m.\u001b[39m_backward_pre_hooks \u001b[38;5;129;01mor\u001b[39;00m \u001b[38;5;28mself\u001b[39m\u001b[38;5;241m.\u001b[39m_forward_hooks \u001b[38;5;129;01mor\u001b[39;00m \u001b[38;5;28mself\u001b[39m\u001b[38;5;241m.\u001b[39m_forward_pre_hooks\n\u001b[0;32m   1539\u001b[0m         \u001b[38;5;129;01mor\u001b[39;00m _global_backward_pre_hooks \u001b[38;5;129;01mor\u001b[39;00m _global_backward_hooks\n\u001b[0;32m   1540\u001b[0m         \u001b[38;5;129;01mor\u001b[39;00m _global_forward_hooks \u001b[38;5;129;01mor\u001b[39;00m _global_forward_pre_hooks):\n\u001b[1;32m-> 1541\u001b[0m     \u001b[38;5;28;01mreturn\u001b[39;00m \u001b[43mforward_call\u001b[49m\u001b[43m(\u001b[49m\u001b[38;5;241;43m*\u001b[39;49m\u001b[43margs\u001b[49m\u001b[43m,\u001b[49m\u001b[43m \u001b[49m\u001b[38;5;241;43m*\u001b[39;49m\u001b[38;5;241;43m*\u001b[39;49m\u001b[43mkwargs\u001b[49m\u001b[43m)\u001b[49m\n\u001b[0;32m   1543\u001b[0m \u001b[38;5;28;01mtry\u001b[39;00m:\n\u001b[0;32m   1544\u001b[0m     result \u001b[38;5;241m=\u001b[39m \u001b[38;5;28;01mNone\u001b[39;00m\n",
      "File \u001b[1;32mc:\\Users\\adamr\\anaconda3\\envs\\LTN\\lib\\site-packages\\torch\\nn\\modules\\linear.py:116\u001b[0m, in \u001b[0;36mLinear.forward\u001b[1;34m(self, input)\u001b[0m\n\u001b[0;32m    115\u001b[0m \u001b[38;5;28;01mdef\u001b[39;00m \u001b[38;5;21mforward\u001b[39m(\u001b[38;5;28mself\u001b[39m, \u001b[38;5;28minput\u001b[39m: Tensor) \u001b[38;5;241m-\u001b[39m\u001b[38;5;241m>\u001b[39m Tensor:\n\u001b[1;32m--> 116\u001b[0m     \u001b[38;5;28;01mreturn\u001b[39;00m \u001b[43mF\u001b[49m\u001b[38;5;241;43m.\u001b[39;49m\u001b[43mlinear\u001b[49m\u001b[43m(\u001b[49m\u001b[38;5;28;43minput\u001b[39;49m\u001b[43m,\u001b[49m\u001b[43m \u001b[49m\u001b[38;5;28;43mself\u001b[39;49m\u001b[38;5;241;43m.\u001b[39;49m\u001b[43mweight\u001b[49m\u001b[43m,\u001b[49m\u001b[43m \u001b[49m\u001b[38;5;28;43mself\u001b[39;49m\u001b[38;5;241;43m.\u001b[39;49m\u001b[43mbias\u001b[49m\u001b[43m)\u001b[49m\n",
      "\u001b[1;31mKeyboardInterrupt\u001b[0m: "
     ]
    }
   ],
   "source": [
    "optimizer = torch.optim.Adam(P.parameters(), lr=0.001)\n",
    "\n",
    "for epoch in range(500):\n",
    "    train_loss = 0.0\n",
    "    for batch_idx, (data, labels) in enumerate(train_loader):\n",
    "        optimizer.zero_grad()\n",
    "        # we ground the variables with current batch data\n",
    "        x_A = ltn.Variable(\"x_A\", data[labels == 0]) # class A examples\n",
    "        x_B = ltn.Variable(\"x_B\", data[labels == 1]) # class B examples\n",
    "        x_C = ltn.Variable(\"x_C\", data[labels == 2]) # class C examples\n",
    "        # print(x_B)\n",
    "        sat_agg = SatAgg(\n",
    "            Forall(x_A, P(x_A, l_A, training=True)),\n",
    "            Forall(x_B, P(x_B, l_B, training=True)),\n",
    "            Forall(x_C, P(x_C, l_C, training=True))\n",
    "        )\n",
    "        loss = 1. - sat_agg\n",
    "        loss.backward()\n",
    "        optimizer.step()\n",
    "        train_loss += loss.item()\n",
    "    train_loss = train_loss / len(train_loader)\n",
    "\n",
    "    # we print metrics every 20 epochs of training\n",
    "    if epoch % 20 == 0:\n",
    "        print(\" epoch %d | loss %.4f | Train Sat %.3f | Test Sat %.3f | Train Acc %.3f | Test Acc %.3f\"\n",
    "              %(epoch, train_loss, compute_sat_level(train_loader), compute_sat_level(test_loader),\n",
    "                    compute_accuracy(train_loader), compute_accuracy(test_loader)))"
   ]
  },
  {
   "cell_type": "code",
   "execution_count": 100,
   "metadata": {},
   "outputs": [
    {
     "data": {
      "image/png": "[encoded data removed]",
      "text/plain": [
       "<Figure size 640x480 with 2 Axes>"
      ]
     },
     "metadata": {},
     "output_type": "display_data"
    }
   ],
   "source": [
    "import seaborn as sns\n",
    "import matplotlib.pyplot as plt\n",
    "\n",
    "# Initialize a matrix to store the counts\n",
    "class_counts = np.zeros((500, 3))\n",
    "\n",
    "for epoch in range(500):\n",
    "    for batch_idx, (data, labels) in enumerate(train_loader):\n",
    "        # Count the number of examples in each class\n",
    "        class_counts[epoch, 0] = np.sum(labels == 0)\n",
    "        class_counts[epoch, 1] = np.sum(labels == 1)\n",
    "        class_counts[epoch, 2] = np.sum(labels == 2)\n",
    "    \n",
    "# Convert the counts to a DataFrame\n",
    "df_class_counts = pd.DataFrame(class_counts, columns=['Class A', 'Class B', 'Class C'])\n",
    "\n",
    "# Plot the heatmap\n",
    "sns.heatmap(df_class_counts)\n",
    "plt.show()"
   ]
  },
  {
   "cell_type": "markdown",
   "metadata": {},
   "source": [
    "What if we tried to again predict the peak shaving, and check for different predicates what is their satisfaction level.\n",
    "- it would make sense that if we have a predicate: SOC <= 20 stop peak shaving, than if the treshold is good (or the rule in general), than the satisfaction of this rule will be high.\n",
    "- This could also allow us to check the relation to the solar panels ? -> if the predicat that includes it does better than that that does not include it\n"
   ]
  },
  {
   "cell_type": "code",
   "execution_count": 4,
   "metadata": {},
   "outputs": [],
   "source": [
    "# take 10% of the dataset \n",
    "data_small = s_data.sample(frac=0.99, random_state=42)\n"
   ]
  },
  {
   "cell_type": "code",
   "execution_count": 5,
   "metadata": {},
   "outputs": [],
   "source": [
    "def check_peak_shaving(row):\n",
    "    if row['GARAGE_EXTERNAL_POWER'] >= row['DEMAND_LIMIT']:\n",
    "        return True\n",
    "    else:\n",
    "        return False\n",
    "\n",
    "data_small['Peak_Shaving'] = data_small.apply(check_peak_shaving, axis=1)\n"
   ]
  },
  {
   "cell_type": "code",
   "execution_count": 6,
   "metadata": {},
   "outputs": [],
   "source": [
    "# Define the thresholds\n",
    "battery_discharge_power_threshold = 0\n",
    "pv_power_threshold = 0.5\n",
    "\n",
    "def adjust_peak_shaving(row):\n",
    "    if row['Peak_Shaving'] == True:\n",
    "        if row['BATTERY_DISCHARGE_POWER'] > battery_discharge_power_threshold or row['PV_POWER'] > pv_power_threshold:\n",
    "            return True\n",
    "        else:\n",
    "            return False\n",
    "    else:\n",
    "        return False\n",
    "\n"
   ]
  },
  {
   "cell_type": "code",
   "execution_count": 7,
   "metadata": {},
   "outputs": [],
   "source": [
    "data_small['Peak_Shaving'] = data_small.apply(adjust_peak_shaving, axis=1)"
   ]
  },
  {
   "cell_type": "code",
   "execution_count": 8,
   "metadata": {},
   "outputs": [
    {
     "data": {
      "text/html": [
       "<div>\n",
       "<style scoped>\n",
       "    .dataframe tbody tr th:only-of-type {\n",
       "        vertical-align: middle;\n",
       "    }\n",
       "\n",
       "    .dataframe tbody tr th {\n",
       "        vertical-align: top;\n",
       "    }\n",
       "\n",
       "    .dataframe thead th {\n",
       "        text-align: right;\n",
       "    }\n",
       "</style>\n",
       "<table border=\"1\" class=\"dataframe\">\n",
       "  <thead>\n",
       "    <tr style=\"text-align: right;\">\n",
       "      <th></th>\n",
       "      <th>_time</th>\n",
       "      <th>GARAGE_EXTERNAL_POWER</th>\n",
       "      <th>DEMAND_LIMIT</th>\n",
       "      <th>BATTERY_SOC</th>\n",
       "      <th>BATTERY_DISCHARGE_POWER</th>\n",
       "      <th>BATTERY_CHARGED_ENERGY</th>\n",
       "      <th>BATTERY_DISCHARGED_ENERGY</th>\n",
       "      <th>PV_POWER</th>\n",
       "      <th>PV_ENERGY</th>\n",
       "      <th>Peak_Shaving</th>\n",
       "    </tr>\n",
       "  </thead>\n",
       "  <tbody>\n",
       "    <tr>\n",
       "      <th>35762</th>\n",
       "      <td>2023-10-31 12:34:00+00:00</td>\n",
       "      <td>1.052765</td>\n",
       "      <td>50.0</td>\n",
       "      <td>40.5</td>\n",
       "      <td>-0.232000</td>\n",
       "      <td>0.0</td>\n",
       "      <td>0.000000</td>\n",
       "      <td>0.912828</td>\n",
       "      <td>0.015625</td>\n",
       "      <td>False</td>\n",
       "    </tr>\n",
       "    <tr>\n",
       "      <th>5687</th>\n",
       "      <td>2023-10-08 23:00:00+00:00</td>\n",
       "      <td>1.244171</td>\n",
       "      <td>50.0</td>\n",
       "      <td>40.5</td>\n",
       "      <td>-0.317000</td>\n",
       "      <td>0.0</td>\n",
       "      <td>0.000000</td>\n",
       "      <td>0.009138</td>\n",
       "      <td>0.000000</td>\n",
       "      <td>False</td>\n",
       "    </tr>\n",
       "    <tr>\n",
       "      <th>56605</th>\n",
       "      <td>2023-11-17 00:43:00+00:00</td>\n",
       "      <td>26.796896</td>\n",
       "      <td>50.0</td>\n",
       "      <td>41.0</td>\n",
       "      <td>-0.422000</td>\n",
       "      <td>0.0</td>\n",
       "      <td>0.000000</td>\n",
       "      <td>0.003416</td>\n",
       "      <td>0.000000</td>\n",
       "      <td>False</td>\n",
       "    </tr>\n",
       "    <tr>\n",
       "      <th>34300</th>\n",
       "      <td>2023-10-30 12:12:00+00:00</td>\n",
       "      <td>49.957039</td>\n",
       "      <td>50.0</td>\n",
       "      <td>21.0</td>\n",
       "      <td>46.626003</td>\n",
       "      <td>0.0</td>\n",
       "      <td>0.800781</td>\n",
       "      <td>2.144122</td>\n",
       "      <td>0.046875</td>\n",
       "      <td>False</td>\n",
       "    </tr>\n",
       "    <tr>\n",
       "      <th>30633</th>\n",
       "      <td>2023-10-27 14:37:00+00:00</td>\n",
       "      <td>9.857449</td>\n",
       "      <td>50.0</td>\n",
       "      <td>54.5</td>\n",
       "      <td>-0.351000</td>\n",
       "      <td>0.0</td>\n",
       "      <td>0.000000</td>\n",
       "      <td>0.452726</td>\n",
       "      <td>0.003906</td>\n",
       "      <td>False</td>\n",
       "    </tr>\n",
       "    <tr>\n",
       "      <th>...</th>\n",
       "      <td>...</td>\n",
       "      <td>...</td>\n",
       "      <td>...</td>\n",
       "      <td>...</td>\n",
       "      <td>...</td>\n",
       "      <td>...</td>\n",
       "      <td>...</td>\n",
       "      <td>...</td>\n",
       "      <td>...</td>\n",
       "      <td>...</td>\n",
       "    </tr>\n",
       "    <tr>\n",
       "      <th>25598</th>\n",
       "      <td>2023-10-23 02:38:00+00:00</td>\n",
       "      <td>1.244171</td>\n",
       "      <td>50.0</td>\n",
       "      <td>41.0</td>\n",
       "      <td>-0.454000</td>\n",
       "      <td>0.0</td>\n",
       "      <td>0.000000</td>\n",
       "      <td>0.008325</td>\n",
       "      <td>0.000000</td>\n",
       "      <td>False</td>\n",
       "    </tr>\n",
       "    <tr>\n",
       "      <th>53452</th>\n",
       "      <td>2023-11-14 20:09:00+00:00</td>\n",
       "      <td>5.646513</td>\n",
       "      <td>50.0</td>\n",
       "      <td>40.5</td>\n",
       "      <td>-0.187000</td>\n",
       "      <td>0.0</td>\n",
       "      <td>0.000000</td>\n",
       "      <td>0.007033</td>\n",
       "      <td>0.000000</td>\n",
       "      <td>False</td>\n",
       "    </tr>\n",
       "    <tr>\n",
       "      <th>49352</th>\n",
       "      <td>2023-11-11 23:48:00+00:00</td>\n",
       "      <td>0.957061</td>\n",
       "      <td>50.0</td>\n",
       "      <td>40.5</td>\n",
       "      <td>-0.211000</td>\n",
       "      <td>0.0</td>\n",
       "      <td>0.000000</td>\n",
       "      <td>0.007655</td>\n",
       "      <td>0.000000</td>\n",
       "      <td>False</td>\n",
       "    </tr>\n",
       "    <tr>\n",
       "      <th>12276</th>\n",
       "      <td>2023-10-13 20:31:00+00:00</td>\n",
       "      <td>1.244171</td>\n",
       "      <td>50.0</td>\n",
       "      <td>41.0</td>\n",
       "      <td>-0.407000</td>\n",
       "      <td>0.0</td>\n",
       "      <td>0.000000</td>\n",
       "      <td>0.008098</td>\n",
       "      <td>0.000000</td>\n",
       "      <td>False</td>\n",
       "    </tr>\n",
       "    <tr>\n",
       "      <th>41562</th>\n",
       "      <td>2023-11-06 02:19:00+00:00</td>\n",
       "      <td>10.527370</td>\n",
       "      <td>50.0</td>\n",
       "      <td>40.5</td>\n",
       "      <td>-0.181000</td>\n",
       "      <td>0.0</td>\n",
       "      <td>0.000000</td>\n",
       "      <td>0.006351</td>\n",
       "      <td>0.000000</td>\n",
       "      <td>False</td>\n",
       "    </tr>\n",
       "  </tbody>\n",
       "</table>\n",
       "<p>23777 rows × 10 columns</p>\n",
       "</div>"
      ],
      "text/plain": [
       "                           _time  GARAGE_EXTERNAL_POWER  DEMAND_LIMIT  \\\n",
       "35762  2023-10-31 12:34:00+00:00               1.052765          50.0   \n",
       "5687   2023-10-08 23:00:00+00:00               1.244171          50.0   \n",
       "56605  2023-11-17 00:43:00+00:00              26.796896          50.0   \n",
       "34300  2023-10-30 12:12:00+00:00              49.957039          50.0   \n",
       "30633  2023-10-27 14:37:00+00:00               9.857449          50.0   \n",
       "...                          ...                    ...           ...   \n",
       "25598  2023-10-23 02:38:00+00:00               1.244171          50.0   \n",
       "53452  2023-11-14 20:09:00+00:00               5.646513          50.0   \n",
       "49352  2023-11-11 23:48:00+00:00               0.957061          50.0   \n",
       "12276  2023-10-13 20:31:00+00:00               1.244171          50.0   \n",
       "41562  2023-11-06 02:19:00+00:00              10.527370          50.0   \n",
       "\n",
       "       BATTERY_SOC  BATTERY_DISCHARGE_POWER  BATTERY_CHARGED_ENERGY  \\\n",
       "35762         40.5                -0.232000                     0.0   \n",
       "5687          40.5                -0.317000                     0.0   \n",
       "56605         41.0                -0.422000                     0.0   \n",
       "34300         21.0                46.626003                     0.0   \n",
       "30633         54.5                -0.351000                     0.0   \n",
       "...            ...                      ...                     ...   \n",
       "25598         41.0                -0.454000                     0.0   \n",
       "53452         40.5                -0.187000                     0.0   \n",
       "49352         40.5                -0.211000                     0.0   \n",
       "12276         41.0                -0.407000                     0.0   \n",
       "41562         40.5                -0.181000                     0.0   \n",
       "\n",
       "       BATTERY_DISCHARGED_ENERGY  PV_POWER  PV_ENERGY  Peak_Shaving  \n",
       "35762                   0.000000  0.912828   0.015625         False  \n",
       "5687                    0.000000  0.009138   0.000000         False  \n",
       "56605                   0.000000  0.003416   0.000000         False  \n",
       "34300                   0.800781  2.144122   0.046875         False  \n",
       "30633                   0.000000  0.452726   0.003906         False  \n",
       "...                          ...       ...        ...           ...  \n",
       "25598                   0.000000  0.008325   0.000000         False  \n",
       "53452                   0.000000  0.007033   0.000000         False  \n",
       "49352                   0.000000  0.007655   0.000000         False  \n",
       "12276                   0.000000  0.008098   0.000000         False  \n",
       "41562                   0.000000  0.006351   0.000000         False  \n",
       "\n",
       "[23777 rows x 10 columns]"
      ]
     },
     "execution_count": 8,
     "metadata": {},
     "output_type": "execute_result"
    }
   ],
   "source": [
    "data_small"
   ]
  },
  {
   "cell_type": "code",
   "execution_count": 8,
   "metadata": {},
   "outputs": [],
   "source": [
    "features = data_small.drop(['_time','Peak_Shaving','DEMAND_LIMIT', 'BATTERY_CHARGED_ENERGY',  'BATTERY_DISCHARGED_ENERGY'], axis=1)\n",
    "target = data_small['Peak_Shaving']"
   ]
  },
  {
   "cell_type": "code",
   "execution_count": 20,
   "metadata": {},
   "outputs": [
    {
     "data": {
      "text/html": [
       "<div>\n",
       "<style scoped>\n",
       "    .dataframe tbody tr th:only-of-type {\n",
       "        vertical-align: middle;\n",
       "    }\n",
       "\n",
       "    .dataframe tbody tr th {\n",
       "        vertical-align: top;\n",
       "    }\n",
       "\n",
       "    .dataframe thead th {\n",
       "        text-align: right;\n",
       "    }\n",
       "</style>\n",
       "<table border=\"1\" class=\"dataframe\">\n",
       "  <thead>\n",
       "    <tr style=\"text-align: right;\">\n",
       "      <th></th>\n",
       "      <th>GARAGE_EXTERNAL_POWER</th>\n",
       "      <th>BATTERY_SOC</th>\n",
       "      <th>BATTERY_DISCHARGE_POWER</th>\n",
       "      <th>PV_POWER</th>\n",
       "      <th>PV_ENERGY</th>\n",
       "    </tr>\n",
       "  </thead>\n",
       "  <tbody>\n",
       "    <tr>\n",
       "      <th>35762</th>\n",
       "      <td>1.052765</td>\n",
       "      <td>40.5</td>\n",
       "      <td>-0.232000</td>\n",
       "      <td>0.912828</td>\n",
       "      <td>0.015625</td>\n",
       "    </tr>\n",
       "    <tr>\n",
       "      <th>5687</th>\n",
       "      <td>1.244171</td>\n",
       "      <td>40.5</td>\n",
       "      <td>-0.317000</td>\n",
       "      <td>0.009138</td>\n",
       "      <td>0.000000</td>\n",
       "    </tr>\n",
       "    <tr>\n",
       "      <th>56605</th>\n",
       "      <td>26.796896</td>\n",
       "      <td>41.0</td>\n",
       "      <td>-0.422000</td>\n",
       "      <td>0.003416</td>\n",
       "      <td>0.000000</td>\n",
       "    </tr>\n",
       "    <tr>\n",
       "      <th>34300</th>\n",
       "      <td>49.957039</td>\n",
       "      <td>21.0</td>\n",
       "      <td>46.626003</td>\n",
       "      <td>2.144122</td>\n",
       "      <td>0.046875</td>\n",
       "    </tr>\n",
       "    <tr>\n",
       "      <th>30633</th>\n",
       "      <td>9.857449</td>\n",
       "      <td>54.5</td>\n",
       "      <td>-0.351000</td>\n",
       "      <td>0.452726</td>\n",
       "      <td>0.003906</td>\n",
       "    </tr>\n",
       "    <tr>\n",
       "      <th>...</th>\n",
       "      <td>...</td>\n",
       "      <td>...</td>\n",
       "      <td>...</td>\n",
       "      <td>...</td>\n",
       "      <td>...</td>\n",
       "    </tr>\n",
       "    <tr>\n",
       "      <th>25598</th>\n",
       "      <td>1.244171</td>\n",
       "      <td>41.0</td>\n",
       "      <td>-0.454000</td>\n",
       "      <td>0.008325</td>\n",
       "      <td>0.000000</td>\n",
       "    </tr>\n",
       "    <tr>\n",
       "      <th>53452</th>\n",
       "      <td>5.646513</td>\n",
       "      <td>40.5</td>\n",
       "      <td>-0.187000</td>\n",
       "      <td>0.007033</td>\n",
       "      <td>0.000000</td>\n",
       "    </tr>\n",
       "    <tr>\n",
       "      <th>49352</th>\n",
       "      <td>0.957061</td>\n",
       "      <td>40.5</td>\n",
       "      <td>-0.211000</td>\n",
       "      <td>0.007655</td>\n",
       "      <td>0.000000</td>\n",
       "    </tr>\n",
       "    <tr>\n",
       "      <th>12276</th>\n",
       "      <td>1.244171</td>\n",
       "      <td>41.0</td>\n",
       "      <td>-0.407000</td>\n",
       "      <td>0.008098</td>\n",
       "      <td>0.000000</td>\n",
       "    </tr>\n",
       "    <tr>\n",
       "      <th>41562</th>\n",
       "      <td>10.527370</td>\n",
       "      <td>40.5</td>\n",
       "      <td>-0.181000</td>\n",
       "      <td>0.006351</td>\n",
       "      <td>0.000000</td>\n",
       "    </tr>\n",
       "  </tbody>\n",
       "</table>\n",
       "<p>23777 rows × 5 columns</p>\n",
       "</div>"
      ],
      "text/plain": [
       "       GARAGE_EXTERNAL_POWER  BATTERY_SOC  BATTERY_DISCHARGE_POWER  PV_POWER  \\\n",
       "35762               1.052765         40.5                -0.232000  0.912828   \n",
       "5687                1.244171         40.5                -0.317000  0.009138   \n",
       "56605              26.796896         41.0                -0.422000  0.003416   \n",
       "34300              49.957039         21.0                46.626003  2.144122   \n",
       "30633               9.857449         54.5                -0.351000  0.452726   \n",
       "...                      ...          ...                      ...       ...   \n",
       "25598               1.244171         41.0                -0.454000  0.008325   \n",
       "53452               5.646513         40.5                -0.187000  0.007033   \n",
       "49352               0.957061         40.5                -0.211000  0.007655   \n",
       "12276               1.244171         41.0                -0.407000  0.008098   \n",
       "41562              10.527370         40.5                -0.181000  0.006351   \n",
       "\n",
       "       PV_ENERGY  \n",
       "35762   0.015625  \n",
       "5687    0.000000  \n",
       "56605   0.000000  \n",
       "34300   0.046875  \n",
       "30633   0.003906  \n",
       "...          ...  \n",
       "25598   0.000000  \n",
       "53452   0.000000  \n",
       "49352   0.000000  \n",
       "12276   0.000000  \n",
       "41562   0.000000  \n",
       "\n",
       "[23777 rows x 5 columns]"
      ]
     },
     "execution_count": 20,
     "metadata": {},
     "output_type": "execute_result"
    }
   ],
   "source": [
    "features"
   ]
  },
  {
   "cell_type": "code",
   "execution_count": 9,
   "metadata": {},
   "outputs": [],
   "source": [
    "\n",
    "features_train, features_test, target_train, target_test = train_test_split(features, target, test_size=0.2, random_state=42)"
   ]
  },
  {
   "cell_type": "code",
   "execution_count": 10,
   "metadata": {},
   "outputs": [],
   "source": [
    "features_train = torch.tensor(features_train.to_numpy()).float()\n",
    "target_train = torch.tensor(target_train.to_numpy()).float()\n",
    "features_test = torch.tensor(features_test.to_numpy()).float()\n",
    "target_test = torch.tensor(target_test.to_numpy()).float()"
   ]
  },
  {
   "cell_type": "markdown",
   "metadata": {},
   "source": [
    "Lets try first with a simple rule \n",
    "if GARAGE_EXTERNAL_POWER > DEMAND_LIMIT and SOC >= 15%"
   ]
  },
  {
   "cell_type": "code",
   "execution_count": 11,
   "metadata": {},
   "outputs": [],
   "source": [
    "import ltn\n",
    "# we define predicate A\n",
    "class ModelA(torch.nn.Module):\n",
    "    def __init__(self):\n",
    "        super(ModelA, self).__init__()\n",
    "        self.sigmoid = torch.nn.Sigmoid()\n",
    "        self.layer1 = torch.nn.Linear(5, 16)  \n",
    "        self.layer2 = torch.nn.Linear(16, 16)\n",
    "        self.layer3 = torch.nn.Linear(16, 1)\n",
    "        self.elu = torch.nn.ELU()\n",
    "\n",
    "    def forward(self, x):\n",
    "        x = self.elu(self.layer1(x))\n",
    "        x = self.elu(self.layer2(x))\n",
    "        return self.sigmoid(self.layer3(x))\n",
    "\n",
    "\n",
    "A = ltn.Predicate(ModelA())\n",
    "\n",
    "And = ltn.Connective(ltn.fuzzy_ops.AndProd())\n",
    "Not = ltn.Connective(ltn.fuzzy_ops.NotStandard())\n",
    "Implies = ltn.Connective(ltn.fuzzy_ops.ImpliesReichenbach())\n",
    "Exists = ltn.Quantifier(ltn.fuzzy_ops.AggregPMean(p=2), quantifier=\"e\")\n",
    "Forall = ltn.Quantifier(ltn.fuzzy_ops.AggregPMeanError(p=2), quantifier=\"f\")\n",
    "SatAgg = ltn.fuzzy_ops.SatAgg()"
   ]
  },
  {
   "cell_type": "code",
   "execution_count": 12,
   "metadata": {},
   "outputs": [],
   "source": [
    "from sklearn.metrics import accuracy_score\n",
    "import numpy as np\n",
    "\n",
    "# this is a standard PyTorch DataLoader to load the dataset for the training and testing of the model\n",
    "class DataLoader(object):\n",
    "    def __init__(self,\n",
    "                 data,\n",
    "                 labels,\n",
    "                 batch_size=1,\n",
    "                 shuffle=True):\n",
    "        self.data = data\n",
    "        self.labels = labels\n",
    "        self.batch_size = batch_size\n",
    "        self.shuffle = shuffle\n",
    "        self.unique_labels = np.unique(labels) \n",
    "\n",
    "    def __len__(self):\n",
    "        return int(np.ceil(self.data.shape[0] / self.batch_size))\n",
    "\n",
    "    def __iter__(self):\n",
    "        # Create a list of indices for each class\n",
    "        indices_per_class = {label: np.where(self.labels == label)[0] for label in self.unique_labels}\n",
    "\n",
    "        # Calculate the number of samples per class in each batch\n",
    "        samples_per_class = max(1, self.batch_size // len(self.unique_labels))\n",
    "\n",
    "        for _ in range(len(self)):\n",
    "            batch_indices = []\n",
    "\n",
    "            for label in self.unique_labels:\n",
    "                # Randomly sample indices for this class\n",
    "                class_indices = np.random.choice(indices_per_class[label], size=samples_per_class, replace=True)\n",
    "                batch_indices.extend(class_indices)\n",
    "\n",
    "            # If the batch size is not a multiple of the number of classes, fill the rest of the batch randomly\n",
    "            if len(batch_indices) < self.batch_size:\n",
    "                extra_indices = np.random.choice(np.arange(len(self.labels)), size=self.batch_size - len(batch_indices))\n",
    "                batch_indices.extend(extra_indices)\n",
    "\n",
    "            if self.shuffle:\n",
    "                np.random.shuffle(batch_indices)\n",
    "\n",
    "            yield self.data[batch_indices], self.labels[batch_indices]\n",
    "\n",
    "\n",
    "# define metrics for evaluation of the model\n",
    "\n",
    "# it computes the overall satisfaction level on the knowledge base using the given data loader (train or test)\n",
    "def compute_sat_level(loader):\n",
    "    mean_sat = 0\n",
    "    for data, labels in loader:\n",
    "        x_A = ltn.Variable(\"x_A\", data[torch.nonzero(labels)])  # positive examples\n",
    "        x_not_A = ltn.Variable(\"x_not_A\",\n",
    "                               data[torch.nonzero(torch.logical_not(labels))])  # negative examples\n",
    "        mean_sat += SatAgg(\n",
    "            Forall(x_A, A(x_A)),\n",
    "            Forall(x_not_A, Not(A(x_not_A)))\n",
    "        )\n",
    "    mean_sat /= len(loader)\n",
    "    return mean_sat\n",
    "\n",
    "# it computes the overall accuracy of the predictions of the trained model using the given data loader\n",
    "# (train or test)\n",
    "def compute_accuracy(loader):\n",
    "    mean_accuracy = 0.0\n",
    "    for data, labels in loader:\n",
    "        predictions = A.model(data).detach().numpy()\n",
    "        predictions = np.where(predictions > 0.5, 1., 0.).flatten()\n",
    "        mean_accuracy += accuracy_score(labels, predictions)\n",
    "\n",
    "    return mean_accuracy / len(loader)\n",
    "\n",
    "# create train and test loader, 50 points each\n",
    "# batch size is 64, meaning there is only one batch for epoch\n",
    "train_loader = DataLoader(features_train, target_train, 1024, True)\n",
    "test_loader = DataLoader(features_test, target_test, 1024, False)"
   ]
  },
  {
   "cell_type": "code",
   "execution_count": 106,
   "metadata": {},
   "outputs": [],
   "source": [
    "# # def P(tensor):\n",
    "# #     print(tensor)\n",
    "# #     external_power, demand_limit, soc = tensor\n",
    "# #     return (external_power > demand_limit) & (soc >= 15)\n",
    "# def P(tensor):\n",
    "#     # print(tensor)\n",
    "#     external_power, soc = tensor.t()  # transpose the tensor\n",
    "#     return external_power > 50\n",
    "#     # return (external_power < demand_limit)\n",
    "#     # return (external_power > demand_limit) & (soc >= 15)\n",
    "\n",
    "# # Wrap the predicate in an LTN Predicate\n",
    "# P = ltn.Predicate(None, P)"
   ]
  },
  {
   "cell_type": "code",
   "execution_count": 107,
   "metadata": {},
   "outputs": [],
   "source": [
    "# def Q(tensor):\n",
    "#     return tensor >= 0.5  # returns True if p_shav is True\n",
    "\n",
    "# # Wrap the predicate in an LTN Predicate\n",
    "# Q = ltn.Predicate(None, Q)"
   ]
  },
  {
   "cell_type": "code",
   "execution_count": 128,
   "metadata": {},
   "outputs": [],
   "source": [
    "# soc_tensor = torch.tensor(s_data['BATTERY_SOC'].values, dtype=torch.float32)\n",
    "# external_power_tensor = torch.tensor(s_data['GARAGE_EXTERNAL_POWER'].values, dtype=torch.float32)\n",
    "# p_shav = torch.tensor(s_data['Peak_Shaving'].values, dtype=torch.float32)\n",
    "\n",
    "\n",
    "# def phi(external_power_tensor, soc_tensor, p_shav):\n",
    "#     # Stack the tensors along the last dimension to create a single tensor\n",
    "#     data = torch.stack([external_power_tensor, soc_tensor], dim=-1)\n",
    "\n",
    "#     # Create a variable that represents the data\n",
    "#     p = ltn.Variable(\"p\", data)\n",
    "#     q = ltn.Variable(\"q\", p_shav)\n",
    "\n",
    "#     # Return the satisfaction degree of the formula\n",
    "#     return Forall(p, Implies(P(p), Q(q))).value"
   ]
  },
  {
   "cell_type": "code",
   "execution_count": 48,
   "metadata": {},
   "outputs": [
    {
     "name": "stdout",
     "output_type": "stream",
     "text": [
      " epoch 0 | loss 0.5533 | Train Sat 0.583 | Test Sat 0.583 | Train Acc 0.811 | Test Acc 0.812\n",
      " epoch 1 | loss 0.3595 | Train Sat 0.680 | Test Sat 0.685 | Train Acc 0.878 | Test Acc 0.892\n",
      " epoch 2 | loss 0.2965 | Train Sat 0.722 | Test Sat 0.725 | Train Acc 0.898 | Test Acc 0.912\n",
      " epoch 3 | loss 0.2715 | Train Sat 0.734 | Test Sat 0.749 | Train Acc 0.914 | Test Acc 0.925\n"
     ]
    },
    {
     "ename": "KeyboardInterrupt",
     "evalue": "",
     "output_type": "error",
     "traceback": [
      "\u001b[1;31m---------------------------------------------------------------------------\u001b[0m",
      "\u001b[1;31mKeyboardInterrupt\u001b[0m                         Traceback (most recent call last)",
      "Cell \u001b[1;32mIn[48], line 7\u001b[0m\n\u001b[0;32m      5\u001b[0m \u001b[38;5;28;01mfor\u001b[39;00m epoch \u001b[38;5;129;01min\u001b[39;00m \u001b[38;5;28mrange\u001b[39m(\u001b[38;5;241m500\u001b[39m):\n\u001b[0;32m      6\u001b[0m     train_loss \u001b[38;5;241m=\u001b[39m \u001b[38;5;241m0.0\u001b[39m\n\u001b[1;32m----> 7\u001b[0m     \u001b[38;5;28;01mfor\u001b[39;00m batch_idx, (data, labels) \u001b[38;5;129;01min\u001b[39;00m \u001b[38;5;28menumerate\u001b[39m(train_loader):\n\u001b[0;32m      8\u001b[0m         optimizer\u001b[38;5;241m.\u001b[39mzero_grad()\n\u001b[0;32m      9\u001b[0m         \u001b[38;5;66;03m# we ground the variables with current batch data\u001b[39;00m\n",
      "Cell \u001b[1;32mIn[24], line 43\u001b[0m, in \u001b[0;36mDataLoader.__iter__\u001b[1;34m(self)\u001b[0m\n\u001b[0;32m     40\u001b[0m \u001b[38;5;28;01mif\u001b[39;00m \u001b[38;5;28mself\u001b[39m\u001b[38;5;241m.\u001b[39mshuffle:\n\u001b[0;32m     41\u001b[0m     np\u001b[38;5;241m.\u001b[39mrandom\u001b[38;5;241m.\u001b[39mshuffle(batch_indices)\n\u001b[1;32m---> 43\u001b[0m \u001b[38;5;28;01myield\u001b[39;00m \u001b[38;5;28;43mself\u001b[39;49m\u001b[38;5;241;43m.\u001b[39;49m\u001b[43mdata\u001b[49m\u001b[43m[\u001b[49m\u001b[43mbatch_indices\u001b[49m\u001b[43m]\u001b[49m, \u001b[38;5;28mself\u001b[39m\u001b[38;5;241m.\u001b[39mlabels[batch_indices]\n",
      "\u001b[1;31mKeyboardInterrupt\u001b[0m: "
     ]
    }
   ],
   "source": [
    "optimizer = torch.optim.Adam(A.parameters(), lr=0.001)\n",
    "\n",
    "# training of the predicate A using a loss containing the satisfaction level of the knowledge base\n",
    "# the objective it to maximize the satisfaction level of the knowledge base\n",
    "for epoch in range(500):\n",
    "    train_loss = 0.0\n",
    "    for batch_idx, (data, labels) in enumerate(train_loader):\n",
    "        optimizer.zero_grad()\n",
    "        # we ground the variables with current batch data\n",
    "        x_A = ltn.Variable(\"x_A\", data[labels==1]) # positive examples\n",
    "        x_not_A = ltn.Variable(\"x_not_A\", data[labels==0]) # negative examples\n",
    "        sat_agg = SatAgg(\n",
    "            Forall(x_A, A(x_A)),\n",
    "            Forall(x_not_A, Not(A(x_not_A)))\n",
    "        )\n",
    "        loss = 1. - sat_agg\n",
    "        loss.backward()\n",
    "        optimizer.step()\n",
    "        train_loss += loss.item()\n",
    "    train_loss = train_loss / len(train_loader)\n",
    "\n",
    "    # we print metrics every 20 epochs of training\n",
    "    if epoch % 1 == 0:\n",
    "        print(\" epoch %d | loss %.4f | Train Sat %.3f | Test Sat %.3f | Train Acc %.3f | Test Acc %.3f\"\n",
    "              %(epoch, train_loss, compute_sat_level(train_loader), compute_sat_level(test_loader),\n",
    "                    compute_accuracy(train_loader), compute_accuracy(test_loader)))"
   ]
  },
  {
   "cell_type": "code",
   "execution_count": 25,
   "metadata": {},
   "outputs": [
    {
     "data": {
      "text/html": [
       "<div>\n",
       "<style scoped>\n",
       "    .dataframe tbody tr th:only-of-type {\n",
       "        vertical-align: middle;\n",
       "    }\n",
       "\n",
       "    .dataframe tbody tr th {\n",
       "        vertical-align: top;\n",
       "    }\n",
       "\n",
       "    .dataframe thead th {\n",
       "        text-align: right;\n",
       "    }\n",
       "</style>\n",
       "<table border=\"1\" class=\"dataframe\">\n",
       "  <thead>\n",
       "    <tr style=\"text-align: right;\">\n",
       "      <th></th>\n",
       "      <th>GARAGE_EXTERNAL_POWER</th>\n",
       "      <th>BATTERY_SOC</th>\n",
       "      <th>BATTERY_DISCHARGE_POWER</th>\n",
       "      <th>PV_POWER</th>\n",
       "      <th>PV_ENERGY</th>\n",
       "    </tr>\n",
       "  </thead>\n",
       "  <tbody>\n",
       "    <tr>\n",
       "      <th>35762</th>\n",
       "      <td>1.052765</td>\n",
       "      <td>40.5</td>\n",
       "      <td>-0.232000</td>\n",
       "      <td>0.912828</td>\n",
       "      <td>0.015625</td>\n",
       "    </tr>\n",
       "    <tr>\n",
       "      <th>5687</th>\n",
       "      <td>1.244171</td>\n",
       "      <td>40.5</td>\n",
       "      <td>-0.317000</td>\n",
       "      <td>0.009138</td>\n",
       "      <td>0.000000</td>\n",
       "    </tr>\n",
       "    <tr>\n",
       "      <th>56605</th>\n",
       "      <td>26.796896</td>\n",
       "      <td>41.0</td>\n",
       "      <td>-0.422000</td>\n",
       "      <td>0.003416</td>\n",
       "      <td>0.000000</td>\n",
       "    </tr>\n",
       "    <tr>\n",
       "      <th>34300</th>\n",
       "      <td>49.957039</td>\n",
       "      <td>21.0</td>\n",
       "      <td>46.626003</td>\n",
       "      <td>2.144122</td>\n",
       "      <td>0.046875</td>\n",
       "    </tr>\n",
       "    <tr>\n",
       "      <th>30633</th>\n",
       "      <td>9.857449</td>\n",
       "      <td>54.5</td>\n",
       "      <td>-0.351000</td>\n",
       "      <td>0.452726</td>\n",
       "      <td>0.003906</td>\n",
       "    </tr>\n",
       "    <tr>\n",
       "      <th>...</th>\n",
       "      <td>...</td>\n",
       "      <td>...</td>\n",
       "      <td>...</td>\n",
       "      <td>...</td>\n",
       "      <td>...</td>\n",
       "    </tr>\n",
       "    <tr>\n",
       "      <th>25598</th>\n",
       "      <td>1.244171</td>\n",
       "      <td>41.0</td>\n",
       "      <td>-0.454000</td>\n",
       "      <td>0.008325</td>\n",
       "      <td>0.000000</td>\n",
       "    </tr>\n",
       "    <tr>\n",
       "      <th>53452</th>\n",
       "      <td>5.646513</td>\n",
       "      <td>40.5</td>\n",
       "      <td>-0.187000</td>\n",
       "      <td>0.007033</td>\n",
       "      <td>0.000000</td>\n",
       "    </tr>\n",
       "    <tr>\n",
       "      <th>49352</th>\n",
       "      <td>0.957061</td>\n",
       "      <td>40.5</td>\n",
       "      <td>-0.211000</td>\n",
       "      <td>0.007655</td>\n",
       "      <td>0.000000</td>\n",
       "    </tr>\n",
       "    <tr>\n",
       "      <th>12276</th>\n",
       "      <td>1.244171</td>\n",
       "      <td>41.0</td>\n",
       "      <td>-0.407000</td>\n",
       "      <td>0.008098</td>\n",
       "      <td>0.000000</td>\n",
       "    </tr>\n",
       "    <tr>\n",
       "      <th>41562</th>\n",
       "      <td>10.527370</td>\n",
       "      <td>40.5</td>\n",
       "      <td>-0.181000</td>\n",
       "      <td>0.006351</td>\n",
       "      <td>0.000000</td>\n",
       "    </tr>\n",
       "  </tbody>\n",
       "</table>\n",
       "<p>23777 rows × 5 columns</p>\n",
       "</div>"
      ],
      "text/plain": [
       "       GARAGE_EXTERNAL_POWER  BATTERY_SOC  BATTERY_DISCHARGE_POWER  PV_POWER  \\\n",
       "35762               1.052765         40.5                -0.232000  0.912828   \n",
       "5687                1.244171         40.5                -0.317000  0.009138   \n",
       "56605              26.796896         41.0                -0.422000  0.003416   \n",
       "34300              49.957039         21.0                46.626003  2.144122   \n",
       "30633               9.857449         54.5                -0.351000  0.452726   \n",
       "...                      ...          ...                      ...       ...   \n",
       "25598               1.244171         41.0                -0.454000  0.008325   \n",
       "53452               5.646513         40.5                -0.187000  0.007033   \n",
       "49352               0.957061         40.5                -0.211000  0.007655   \n",
       "12276               1.244171         41.0                -0.407000  0.008098   \n",
       "41562              10.527370         40.5                -0.181000  0.006351   \n",
       "\n",
       "       PV_ENERGY  \n",
       "35762   0.015625  \n",
       "5687    0.000000  \n",
       "56605   0.000000  \n",
       "34300   0.046875  \n",
       "30633   0.003906  \n",
       "...          ...  \n",
       "25598   0.000000  \n",
       "53452   0.000000  \n",
       "49352   0.000000  \n",
       "12276   0.000000  \n",
       "41562   0.000000  \n",
       "\n",
       "[23777 rows x 5 columns]"
      ]
     },
     "execution_count": 25,
     "metadata": {},
     "output_type": "execute_result"
    }
   ],
   "source": [
    "features"
   ]
  },
  {
   "cell_type": "markdown",
   "metadata": {},
   "source": [
    "Axioms\n",
    "\n",
    "- for every instance if peak shaving is true than Battery_SOC > 15:"
   ]
  },
  {
   "cell_type": "code",
   "execution_count": 13,
   "metadata": {},
   "outputs": [],
   "source": [
    "Implies = ltn.Connective(ltn.fuzzy_ops.ImpliesReichenbach())\n",
    "\n",
    "def PeakShaving(tensor):\n",
    "    return tensor >= 0.5  # returns True if peak shaving is True\n",
    "\n",
    "PeakShaving = ltn.Predicate(None, PeakShaving)\n",
    "\n",
    "def Battery_SOC_Greater_15(tensor):\n",
    "    return tensor > 35  # returns True if Battery_SOC > 15\n",
    "\n",
    "Battery_SOC_Greater_15 = ltn.Predicate(None, Battery_SOC_Greater_15)\n",
    "\n",
    "def Battery_SOC_small(tensor):\n",
    "    return tensor < 45  # returns True if Battery_SOC > 15\n",
    "\n",
    "Battery_SOC_small = ltn.Predicate(None, Battery_SOC_small)\n",
    "\n",
    "def phi(features, label):\n",
    "   \n",
    "    label = label.view(-1, 1)\n",
    "    sc = features[1].view(-1,1)\n",
    "    # x = ltn.Variable(\"x\", features)\n",
    "    y = ltn.Variable(\"y\", label)\n",
    "    s = ltn.Variable(\"s\", sc)\n",
    "    return Forall([y, s], Implies(PeakShaving(y), And(Battery_SOC_Greater_15(s), Battery_SOC_small(s))), p=5)\n",
    "\n",
    "\n",
    "\n",
    "# lets check the satisfaction for the rule that\n",
    "\n",
    "\n",
    "\n",
    "\n",
    "# def phi2(features, label):\n",
    "#     label = label.view(-1, 1)\n",
    "#     sc = features[1].view(-1,1)\n",
    "\n",
    "#     y = ltn.Variable(\"y\", label)\n",
    "\n",
    "#     # if there is peak shaving both \n",
    "    # return Forall()\n",
    "def compute_sat_level_phi(loader, phi):\n",
    "    sat_values = []\n",
    "    for features, labels in loader:\n",
    "        for feature, label in zip(features, labels):\n",
    "            sat_values.append(phi(feature, label).value)\n",
    "    mean_sat = torch.mean(torch.stack(sat_values))\n",
    "    return mean_sat\n"
   ]
  },
  {
   "cell_type": "markdown",
   "metadata": {},
   "source": [
    "What could be interesting is more general rules, that don't require the tresholds\n",
    "- for all x if peak shaving than energy is given from both sources "
   ]
  },
  {
   "cell_type": "code",
   "execution_count": 14,
   "metadata": {},
   "outputs": [],
   "source": [
    "# energy comes from the power plant and the battery\n",
    "def gives_energy(tensor):\n",
    "    # print(tensor)\n",
    "    return tensor > 0\n",
    "\n",
    "gives_energy = ltn.Predicate(None, gives_energy)\n",
    "\n",
    "def phiComp(features, label):\n",
    "    label = label.view(-1, 1)\n",
    "    bp = features[2].view(-1,1) #batery power\n",
    "    pp = features[3].view(-1,1) #batery power\n",
    "    # x = ltn.Variable(\"x\", features)\n",
    "    y = ltn.Variable(\"y\", label)\n",
    "    b = ltn.Variable(\"b\", bp)\n",
    "    p = ltn.Variable(\"p\", pp)\n",
    "    return Forall([y, b, p], Implies(PeakShaving(y), And(gives_energy(b), gives_energy(p))), p=5)\n"
   ]
  },
  {
   "cell_type": "code",
   "execution_count": 15,
   "metadata": {},
   "outputs": [],
   "source": [
    "# energy comes from the power plant and the battery\n",
    "def gives_energy(tensor):\n",
    "    # print(tensor)\n",
    "    return tensor > 0\n",
    "\n",
    "def gets_charged(tensor):\n",
    "    # print(tensor)\n",
    "    return tensor < 0\n",
    "\n",
    "gives_energy = ltn.Predicate(None, gives_energy)\n",
    "gets_charged = ltn.Predicate(None, gets_charged)\n",
    "\n",
    "def phit2(features, label):\n",
    "    label = label.view(-1, 1)\n",
    "    bp = features[2].view(-1,1) #batery power\n",
    "    pp = features[3].view(-1,1) #batery power\n",
    "    # x = ltn.Variable(\"x\", features)\n",
    "    # y = ltn.Variable(\"y\", label)\n",
    "    b = ltn.Variable(\"b\", bp)\n",
    "    p = ltn.Variable(\"p\", pp)\n",
    "    return Forall([b, p], Implies(gives_energy(p), gives_energy(b)), p=5)\n"
   ]
  },
  {
   "cell_type": "code",
   "execution_count": 37,
   "metadata": {},
   "outputs": [
    {
     "data": {
      "text/plain": [
       "tensor(0.7605)"
      ]
     },
     "execution_count": 37,
     "metadata": {},
     "output_type": "execute_result"
    }
   ],
   "source": [
    "compute_sat_level_phi(test_loader, phi)"
   ]
  },
  {
   "cell_type": "code",
   "execution_count": 17,
   "metadata": {},
   "outputs": [
    {
     "data": {
      "text/plain": [
       "tensor(0.7875)"
      ]
     },
     "execution_count": 17,
     "metadata": {},
     "output_type": "execute_result"
    }
   ],
   "source": [
    "compute_sat_level_phi(test_loader, phiComp)"
   ]
  },
  {
   "cell_type": "code",
   "execution_count": 18,
   "metadata": {},
   "outputs": [
    {
     "data": {
      "text/plain": [
       "tensor(0.4689)"
      ]
     },
     "execution_count": 18,
     "metadata": {},
     "output_type": "execute_result"
    }
   ],
   "source": [
    "compute_sat_level_phi(train_loader, phit2)"
   ]
  },
  {
   "cell_type": "code",
   "execution_count": 28,
   "metadata": {},
   "outputs": [],
   "source": [
    "# class ModelP2(torch.nn.Module):\n",
    "#     def __init__(self):\n",
    "#         super(ModelP2, self).__init__()\n",
    "#         self.elu = torch.nn.ELU()\n",
    "#         self.sigmoid = torch.nn.Sigmoid()\n",
    "#         self.dense1 = torch.nn.Linear(3, 5)\n",
    "#         self.dense2 = torch.nn.Linear(5, 1) # returns one value in [0,1]\n",
    "\n",
    "#         # Add thresholds as parameters\n",
    "#         self.tr1 = torch.nn.Parameter(torch.tensor([0.]))\n",
    "#         self.tr2 = torch.nn.Parameter(torch.tensor([0.]))\n",
    "#         self.tr3 = torch.nn.Parameter(torch.tensor([0.]))\n",
    "\n",
    "#     def forward(self, x):\n",
    "#         x = self.elu(self.dense1(x))\n",
    "#         x = self.sigmoid(self.dense2(x))\n",
    "\n",
    "#         # Apply thresholds\n",
    "#         x = torch.where(x > self.tr1, torch.tensor([1.]), x)\n",
    "#         x = torch.where((x > self.tr2) & (x <= self.tr1), torch.tensor([0.5]), x)\n",
    "#         x = torch.where(x <= self.tr2, torch.tensor([0.]), x)\n",
    "\n",
    "#         return x\n",
    "\n",
    "# modelP2 = ModelP2()\n",
    "# P2 = ltn.Predicate(model=modelP2)"
   ]
  },
  {
   "cell_type": "code",
   "execution_count": 32,
   "metadata": {},
   "outputs": [],
   "source": [
    "# modelP2 = ModelP2()\n",
    "# P2 = ltn.Predicate(model=modelP2)"
   ]
  },
  {
   "cell_type": "code",
   "execution_count": 36,
   "metadata": {},
   "outputs": [],
   "source": [
    "# tr1 = ltn.Constant(torch.tensor([0]), trainable=True)\n",
    "# tr2 = ltn.Constant(torch.tensor([0]), trainable=True)\n",
    "# tr3 = ltn.Constant(torch.tensor([0]), trainable=True)\n",
    "\n",
    "# trl = ltn.Variable('trl', torch.stack([tr1.value, tr2.value, tr3.value]))\n",
    "\n",
    "\n",
    "# def phi_tres(features, label):\n",
    "#     label = label.view(-1, 1)\n",
    "#     sc = features[1].view(-1,1)\n",
    "#     y = ltn.Variable(\"y\", label)\n",
    "#     s = ltn.Variable(\"s\", sc)\n",
    "#     t = ltn.Variable(\"t\", tresholds)\n",
    "#     return Forall([y, s, t], Implies(PeakShaving(y), And(Battery_SOC_Greater_15(s), Battery_SOC_small(s), s > t)), p=5)\n",
    "\n",
    "# def phi_tres():\n",
    "#     t = ltn.Variable(\"t\", torch.stack([i.value for i in tresholds.values()]))\n",
    "#     return Forall(t, Implies(C(p), S(p)), p=5).value"
   ]
  },
  {
   "cell_type": "code",
   "execution_count": null,
   "metadata": {},
   "outputs": [],
   "source": [
    "# res = P2(trl)"
   ]
  },
  {
   "cell_type": "code",
   "execution_count": 20,
   "metadata": {},
   "outputs": [
    {
     "name": "stdout",
     "output_type": "stream",
     "text": [
      " epoch 0 | loss 0.2227 | Train Sat 0.780 | Test Sat 0.777 | Train Acc 0.948 | Test Acc 0.943 | Phi Sat 0.488\n",
      " epoch 20 | loss 0.2127 | Train Sat 0.783 | Test Sat 0.785 | Train Acc 0.947 | Test Acc 0.948 | Phi Sat 0.490\n",
      " epoch 40 | loss 0.2116 | Train Sat 0.786 | Test Sat 0.785 | Train Acc 0.949 | Test Acc 0.950 | Phi Sat 0.486\n",
      " epoch 60 | loss 0.2108 | Train Sat 0.790 | Test Sat 0.793 | Train Acc 0.950 | Test Acc 0.949 | Phi Sat 0.489\n",
      " epoch 80 | loss 0.2103 | Train Sat 0.791 | Test Sat 0.784 | Train Acc 0.951 | Test Acc 0.946 | Phi Sat 0.484\n",
      " epoch 100 | loss 0.2067 | Train Sat 0.794 | Test Sat 0.793 | Train Acc 0.952 | Test Acc 0.952 | Phi Sat 0.490\n",
      " epoch 120 | loss 0.2109 | Train Sat 0.793 | Test Sat 0.789 | Train Acc 0.949 | Test Acc 0.953 | Phi Sat 0.488\n",
      " epoch 140 | loss 0.2022 | Train Sat 0.798 | Test Sat 0.790 | Train Acc 0.952 | Test Acc 0.949 | Phi Sat 0.479\n",
      " epoch 160 | loss 0.2045 | Train Sat 0.795 | Test Sat 0.799 | Train Acc 0.952 | Test Acc 0.949 | Phi Sat 0.487\n",
      " epoch 180 | loss 0.2029 | Train Sat 0.795 | Test Sat 0.796 | Train Acc 0.952 | Test Acc 0.949 | Phi Sat 0.484\n",
      " epoch 200 | loss 0.2021 | Train Sat 0.798 | Test Sat 0.795 | Train Acc 0.954 | Test Acc 0.951 | Phi Sat 0.488\n",
      " epoch 220 | loss 0.2027 | Train Sat 0.796 | Test Sat 0.794 | Train Acc 0.954 | Test Acc 0.948 | Phi Sat 0.488\n",
      " epoch 240 | loss 0.2032 | Train Sat 0.798 | Test Sat 0.793 | Train Acc 0.953 | Test Acc 0.948 | Phi Sat 0.484\n",
      " epoch 260 | loss 0.2007 | Train Sat 0.801 | Test Sat 0.796 | Train Acc 0.953 | Test Acc 0.951 | Phi Sat 0.485\n",
      " epoch 280 | loss 0.2033 | Train Sat 0.803 | Test Sat 0.796 | Train Acc 0.954 | Test Acc 0.951 | Phi Sat 0.485\n",
      " epoch 300 | loss 0.1968 | Train Sat 0.800 | Test Sat 0.798 | Train Acc 0.952 | Test Acc 0.952 | Phi Sat 0.486\n",
      " epoch 320 | loss 0.1972 | Train Sat 0.802 | Test Sat 0.799 | Train Acc 0.955 | Test Acc 0.953 | Phi Sat 0.481\n",
      " epoch 340 | loss 0.1974 | Train Sat 0.800 | Test Sat 0.794 | Train Acc 0.952 | Test Acc 0.950 | Phi Sat 0.486\n",
      " epoch 360 | loss 0.1930 | Train Sat 0.804 | Test Sat 0.813 | Train Acc 0.954 | Test Acc 0.955 | Phi Sat 0.485\n"
     ]
    },
    {
     "ename": "KeyboardInterrupt",
     "evalue": "",
     "output_type": "error",
     "traceback": [
      "\u001b[1;31m---------------------------------------------------------------------------\u001b[0m",
      "\u001b[1;31mKeyboardInterrupt\u001b[0m                         Traceback (most recent call last)",
      "Cell \u001b[1;32mIn[20], line 8\u001b[0m\n\u001b[0;32m      6\u001b[0m \u001b[38;5;28;01mfor\u001b[39;00m epoch \u001b[38;5;129;01min\u001b[39;00m \u001b[38;5;28mrange\u001b[39m(\u001b[38;5;241m500\u001b[39m):\n\u001b[0;32m      7\u001b[0m     train_loss \u001b[38;5;241m=\u001b[39m \u001b[38;5;241m0.0\u001b[39m\n\u001b[1;32m----> 8\u001b[0m     \u001b[38;5;28;01mfor\u001b[39;00m batch_idx, (data, labels) \u001b[38;5;129;01min\u001b[39;00m \u001b[38;5;28menumerate\u001b[39m(train_loader):\n\u001b[0;32m      9\u001b[0m         optimizer\u001b[38;5;241m.\u001b[39mzero_grad()\n\u001b[0;32m     10\u001b[0m         \u001b[38;5;66;03m# we ground the variables with current batch data\u001b[39;00m\n",
      "Cell \u001b[1;32mIn[12], line 43\u001b[0m, in \u001b[0;36mDataLoader.__iter__\u001b[1;34m(self)\u001b[0m\n\u001b[0;32m     40\u001b[0m \u001b[38;5;28;01mif\u001b[39;00m \u001b[38;5;28mself\u001b[39m\u001b[38;5;241m.\u001b[39mshuffle:\n\u001b[0;32m     41\u001b[0m     np\u001b[38;5;241m.\u001b[39mrandom\u001b[38;5;241m.\u001b[39mshuffle(batch_indices)\n\u001b[1;32m---> 43\u001b[0m \u001b[38;5;28;01myield\u001b[39;00m \u001b[38;5;28mself\u001b[39m\u001b[38;5;241m.\u001b[39mdata[batch_indices], \u001b[38;5;28;43mself\u001b[39;49m\u001b[38;5;241;43m.\u001b[39;49m\u001b[43mlabels\u001b[49m\u001b[43m[\u001b[49m\u001b[43mbatch_indices\u001b[49m\u001b[43m]\u001b[49m\n",
      "\u001b[1;31mKeyboardInterrupt\u001b[0m: "
     ]
    }
   ],
   "source": [
    "# params = list(A.parameters())\n",
    "optimizer = torch.optim.Adam(A.parameters(), lr=0.001)\n",
    "\n",
    "# training of the predicate A using a loss containing the satisfaction level of the knowledge base\n",
    "# the objective it to maximize the satisfaction level of the knowledge base\n",
    "for epoch in range(500):\n",
    "    train_loss = 0.0\n",
    "    for batch_idx, (data, labels) in enumerate(train_loader):\n",
    "        optimizer.zero_grad()\n",
    "        # we ground the variables with current batch data\n",
    "        x_A = ltn.Variable(\"x_A\", data[labels==1]) # positive examples\n",
    "        x_not_A = ltn.Variable(\"x_not_A\", data[labels==0]) # negative examples\n",
    "        # p_shav = labels\n",
    "        sat_agg = SatAgg(\n",
    "            Forall(x_A, A(x_A)),\n",
    "            Forall(x_not_A, Not(A(x_not_A))),\n",
    "        )\n",
    "        loss = 1. - sat_agg\n",
    "        loss.backward()\n",
    "        optimizer.step()\n",
    "        train_loss += loss.item()\n",
    "    train_loss = train_loss / len(train_loader)\n",
    "\n",
    "    # we print metrics every 20 epochs of training\n",
    "    if epoch % 20 == 0:\n",
    "        print(\" epoch %d | loss %.4f | Train Sat %.3f | Test Sat %.3f | Train Acc %.3f | Test Acc %.3f | Phi Sat %.3f\"\n",
    "              %(epoch, train_loss, compute_sat_level(train_loader), compute_sat_level(test_loader),\n",
    "                    compute_accuracy(train_loader), compute_accuracy(test_loader), compute_sat_level_phi(test_loader, phit2)))"
   ]
  },
  {
   "cell_type": "markdown",
   "metadata": {},
   "source": [
    "Plan for now: \n",
    "- check whith a more complicated new rule how does the satisfaction work \n",
    "\n",
    "Idea:\n",
    "- to learn the treshold we need to save them as variables and create another Predicate to optimze them. But what do we base the optimization on? \n",
    "\n",
    "What can we use for loss? Assuming we want to learn tresholds, what would we use to validate how good we do on the data? \n",
    "- Maybe based on my simple labeled peak shaving? -- For which values is the peak shaving true. Should this be done with another NN model? I guess we save the tresholds as predicates, similarly as I did with Battery_SOC_Greater_15, but the treshold has to be learnable. "
   ]
  },
  {
   "cell_type": "markdown",
   "metadata": {},
   "source": []
  },
  {
   "cell_type": "markdown",
   "metadata": {},
   "source": []
  },
  {
   "cell_type": "markdown",
   "metadata": {},
   "source": [
    "### Model that guesses peak shaving based on the ground truth\n",
    "\n",
    "For what SOC\n",
    "- e-cars charging is completely covered by the local battery\n",
    "- e-cars charging power is covered by local battery.\n",
    "- local battery is charged from the grid.\n",
    "- Battery discharging is stopped due to battery health\n"
   ]
  },
  {
   "cell_type": "code",
   "execution_count": 38,
   "metadata": {},
   "outputs": [],
   "source": [
    "ds = pd.read_csv('src\\data\\Stud_E-mobility_data_staticLimit.csv')"
   ]
  },
  {
   "cell_type": "code",
   "execution_count": 39,
   "metadata": {},
   "outputs": [],
   "source": [
    "ds[\"POWER_DEMAND\"] = ds[\"WALLBOX_1_POWER\"] + ds[\"WALLBOX_2_POWER\"] + ds[\"WALLBOX_3_POWER\"] + ds[\"WALLBOX_A_POWER\"] + ds[\"WALLBOX_B_POWER\"] + ds[\"WALLBOX_C_POWER\"] + ds[\"WALLBOX_FASTCHARGER_POWER\"]\n",
    "ds[\"POWER_SUPPLY\"] = ds[\"GARAGE_EXTERNAL_POWER\"] + ds[\"PV_POWER\"] + ds[\"BATTERY_DISCHARGE_POWER\"]"
   ]
  },
  {
   "cell_type": "markdown",
   "metadata": {},
   "source": [
    "e-cars charging is completely covered by the local battery"
   ]
  },
  {
   "cell_type": "code",
   "execution_count": 73,
   "metadata": {},
   "outputs": [
    {
     "name": "stdout",
     "output_type": "stream",
     "text": [
      "Does 'BATTERY_DISCHARGE_POWER' ever cover 100% of 'POWER_SUPPLY'? True\n"
     ]
    }
   ],
   "source": [
    "is_covered_prc = ((ds[\"BATTERY_DISCHARGE_POWER\"] / ds[\"POWER_SUPPLY\"]) >= 0.98).any()\n",
    "\n",
    "print(f\"Does 'BATTERY_DISCHARGE_POWER' ever cover 100% of 'POWER_SUPPLY'? {is_covered_prc}\")"
   ]
  },
  {
   "cell_type": "code",
   "execution_count": 96,
   "metadata": {},
   "outputs": [
    {
     "data": {
      "text/plain": [
       "52480"
      ]
     },
     "execution_count": 96,
     "metadata": {},
     "output_type": "execute_result"
    }
   ],
   "source": [
    "len(ds[ds[\"BATTERY_DISCHARGE_POWER\"] / ds[\"POWER_SUPPLY\"] < 0])"
   ]
  },
  {
   "cell_type": "code",
   "execution_count": 95,
   "metadata": {},
   "outputs": [
    {
     "data": {
      "text/plain": [
       "52504"
      ]
     },
     "execution_count": 95,
     "metadata": {},
     "output_type": "execute_result"
    }
   ],
   "source": [
    "len(ds[ds[\"BATTERY_DISCHARGE_POWER\"] < 0])"
   ]
  },
  {
   "cell_type": "code",
   "execution_count": 97,
   "metadata": {},
   "outputs": [],
   "source": [
    "def label_row(row):\n",
    "    if row[\"BATTERY_DISCHARGE_POWER\"] / row[\"POWER_SUPPLY\"] >= 0.95:\n",
    "        return \"completely covered\"\n",
    "    elif row[\"BATTERY_DISCHARGE_POWER\"] > 0.05:\n",
    "        return \"covered\"\n",
    "    elif row[\"BATTERY_DISCHARGE_POWER\"] < 0:\n",
    "        return \"charged\"\n",
    "    else:\n",
    "        return \"stopped\"\n",
    "    \n",
    "\n",
    "ds[\"Label\"] = ds.apply(lambda row: label_row(row), axis=1)"
   ]
  },
  {
   "cell_type": "code",
   "execution_count": 98,
   "metadata": {},
   "outputs": [
    {
     "data": {
      "text/plain": [
       "Label\n",
       "charged               52479\n",
       "covered                6927\n",
       "completely covered       27\n",
       "stopped                   9\n",
       "Name: count, dtype: int64"
      ]
     },
     "execution_count": 98,
     "metadata": {},
     "output_type": "execute_result"
    }
   ],
   "source": [
    "# give me counts of unique values of labels\n",
    "ds[\"Label\"].value_counts()"
   ]
  },
  {
   "cell_type": "code",
   "execution_count": 116,
   "metadata": {},
   "outputs": [],
   "source": [
    "def label_row(row):\n",
    "    if row[\"BATTERY_DISCHARGE_POWER\"] / row[\"POWER_SUPPLY\"] >= 0.51:\n",
    "        return \"completely covered\"\n",
    "    elif row[\"BATTERY_DISCHARGE_POWER\"] > 0.02:\n",
    "        return \"covered\"\n",
    "    else:\n",
    "        return \"charged\"\n",
    "    \n",
    "    \n",
    "\n",
    "ds[\"Label\"] = ds.apply(lambda row: label_row(row), axis=1)"
   ]
  },
  {
   "cell_type": "code",
   "execution_count": 117,
   "metadata": {},
   "outputs": [
    {
     "data": {
      "text/plain": [
       "Label\n",
       "charged               52485\n",
       "covered                6779\n",
       "completely covered      178\n",
       "Name: count, dtype: int64"
      ]
     },
     "execution_count": 117,
     "metadata": {},
     "output_type": "execute_result"
    }
   ],
   "source": [
    "# give me counts of unique values of labels\n",
    "ds[\"Label\"].value_counts()"
   ]
  },
  {
   "cell_type": "code",
   "execution_count": null,
   "metadata": {},
   "outputs": [],
   "source": []
  },
  {
   "cell_type": "markdown",
   "metadata": {},
   "source": [
    "Now that we have that, we can try to optimize tresholds for SOC so that they help us predict the Label"
   ]
  },
  {
   "cell_type": "code",
   "execution_count": null,
   "metadata": {},
   "outputs": [],
   "source": []
  }
 ],
 "metadata": {
  "kernelspec": {
   "display_name": "data-science-project",
   "language": "python",
   "name": "python3"
  },
  "language_info": {
   "codemirror_mode": {
    "name": "ipython",
    "version": 3
   },
   "file_extension": ".py",
   "mimetype": "text/x-python",
   "name": "python",
   "nbconvert_exporter": "python",
   "pygments_lexer": "ipython3",
   "version": "3.8.19"
  }
 },
 "nbformat": 4,
 "nbformat_minor": 2
}
